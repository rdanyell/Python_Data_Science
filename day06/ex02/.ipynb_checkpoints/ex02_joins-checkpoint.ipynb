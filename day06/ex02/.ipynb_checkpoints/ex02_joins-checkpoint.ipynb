{
 "cells": [
  {
   "cell_type": "code",
   "execution_count": 1,
   "id": "55b9aebe",
   "metadata": {},
   "outputs": [],
   "source": [
    "import pandas as pd\n",
    "import sqlite3"
   ]
  },
  {
   "cell_type": "markdown",
   "id": "7df9dd14",
   "metadata": {},
   "source": [
    "С помощью sqlite3.connect создадим объект типа Connection"
   ]
  },
  {
   "cell_type": "code",
   "execution_count": 2,
   "id": "70a39453",
   "metadata": {},
   "outputs": [
    {
     "data": {
      "text/plain": [
       "<sqlite3.Connection at 0x117b024e0>"
      ]
     },
     "execution_count": 2,
     "metadata": {},
     "output_type": "execute_result"
    }
   ],
   "source": [
    "connect = sqlite3.connect('../data/checking-logs.sqlite')\n",
    "connect"
   ]
  },
  {
   "cell_type": "markdown",
   "id": "f6463e80",
   "metadata": {},
   "source": [
    "Создадим новую таблицу datamart в базе данных, объединив просмотры страниц таблиц и проверку с использованием одного запроса\n",
    "\n",
    "◦ в таблице должны быть следующие столбцы: uid, labname, first_commit_ts, first_view_ts\n",
    "\n",
    "фильтры те же:\n",
    "\n",
    " ∗ status = ’ready’\n",
    "\n",
    " ∗ numTrials = 1\n",
    "\n",
    " ◦ таблица должна содержать только пользователей (uid с user_*), а не администраторов\n",
    "\n",
    " ◦ first_commit_ts и first_view_ts должны быть проанализированы как datetime64[ns]"
   ]
  },
  {
   "cell_type": "code",
   "execution_count": 3,
   "id": "d1852706",
   "metadata": {},
   "outputs": [
    {
     "data": {
      "text/html": [
       "<div>\n",
       "<style scoped>\n",
       "    .dataframe tbody tr th:only-of-type {\n",
       "        vertical-align: middle;\n",
       "    }\n",
       "\n",
       "    .dataframe tbody tr th {\n",
       "        vertical-align: top;\n",
       "    }\n",
       "\n",
       "    .dataframe thead th {\n",
       "        text-align: right;\n",
       "    }\n",
       "</style>\n",
       "<table border=\"1\" class=\"dataframe\">\n",
       "  <thead>\n",
       "    <tr style=\"text-align: right;\">\n",
       "      <th></th>\n",
       "      <th>uid</th>\n",
       "      <th>labname</th>\n",
       "      <th>first_commit_ts</th>\n",
       "      <th>first_view_ts</th>\n",
       "    </tr>\n",
       "  </thead>\n",
       "  <tbody>\n",
       "    <tr>\n",
       "      <th>0</th>\n",
       "      <td>user_4</td>\n",
       "      <td>project1</td>\n",
       "      <td>2020-04-17 05:19:02.744528</td>\n",
       "      <td>NaT</td>\n",
       "    </tr>\n",
       "    <tr>\n",
       "      <th>1</th>\n",
       "      <td>user_4</td>\n",
       "      <td>laba04</td>\n",
       "      <td>2020-04-17 11:33:17.366400</td>\n",
       "      <td>NaT</td>\n",
       "    </tr>\n",
       "    <tr>\n",
       "      <th>2</th>\n",
       "      <td>user_4</td>\n",
       "      <td>laba04s</td>\n",
       "      <td>2020-04-17 11:48:41.992466</td>\n",
       "      <td>NaT</td>\n",
       "    </tr>\n",
       "    <tr>\n",
       "      <th>3</th>\n",
       "      <td>user_17</td>\n",
       "      <td>project1</td>\n",
       "      <td>2020-04-18 07:56:45.408648</td>\n",
       "      <td>2020-04-18 10:56:55.833899</td>\n",
       "    </tr>\n",
       "    <tr>\n",
       "      <th>4</th>\n",
       "      <td>user_30</td>\n",
       "      <td>laba04</td>\n",
       "      <td>2020-04-18 13:36:53.971502</td>\n",
       "      <td>2020-04-17 22:46:26.785035</td>\n",
       "    </tr>\n",
       "    <tr>\n",
       "      <th>...</th>\n",
       "      <td>...</td>\n",
       "      <td>...</td>\n",
       "      <td>...</td>\n",
       "      <td>...</td>\n",
       "    </tr>\n",
       "    <tr>\n",
       "      <th>135</th>\n",
       "      <td>user_23</td>\n",
       "      <td>laba06</td>\n",
       "      <td>2020-05-21 08:34:10.517205</td>\n",
       "      <td>NaT</td>\n",
       "    </tr>\n",
       "    <tr>\n",
       "      <th>136</th>\n",
       "      <td>user_19</td>\n",
       "      <td>laba06s</td>\n",
       "      <td>2020-05-21 13:27:06.705881</td>\n",
       "      <td>2020-04-21 20:30:38.034966</td>\n",
       "    </tr>\n",
       "    <tr>\n",
       "      <th>137</th>\n",
       "      <td>user_23</td>\n",
       "      <td>laba06s</td>\n",
       "      <td>2020-05-21 14:29:15.709568</td>\n",
       "      <td>NaT</td>\n",
       "    </tr>\n",
       "    <tr>\n",
       "      <th>138</th>\n",
       "      <td>user_17</td>\n",
       "      <td>laba06</td>\n",
       "      <td>2020-05-21 15:21:31.567615</td>\n",
       "      <td>2020-04-18 10:56:55.833899</td>\n",
       "    </tr>\n",
       "    <tr>\n",
       "      <th>139</th>\n",
       "      <td>user_17</td>\n",
       "      <td>laba06s</td>\n",
       "      <td>2020-05-21 17:39:17.783615</td>\n",
       "      <td>2020-04-18 10:56:55.833899</td>\n",
       "    </tr>\n",
       "  </tbody>\n",
       "</table>\n",
       "<p>140 rows × 4 columns</p>\n",
       "</div>"
      ],
      "text/plain": [
       "         uid   labname            first_commit_ts              first_view_ts\n",
       "0     user_4  project1 2020-04-17 05:19:02.744528                        NaT\n",
       "1     user_4    laba04 2020-04-17 11:33:17.366400                        NaT\n",
       "2     user_4   laba04s 2020-04-17 11:48:41.992466                        NaT\n",
       "3    user_17  project1 2020-04-18 07:56:45.408648 2020-04-18 10:56:55.833899\n",
       "4    user_30    laba04 2020-04-18 13:36:53.971502 2020-04-17 22:46:26.785035\n",
       "..       ...       ...                        ...                        ...\n",
       "135  user_23    laba06 2020-05-21 08:34:10.517205                        NaT\n",
       "136  user_19   laba06s 2020-05-21 13:27:06.705881 2020-04-21 20:30:38.034966\n",
       "137  user_23   laba06s 2020-05-21 14:29:15.709568                        NaT\n",
       "138  user_17    laba06 2020-05-21 15:21:31.567615 2020-04-18 10:56:55.833899\n",
       "139  user_17   laba06s 2020-05-21 17:39:17.783615 2020-04-18 10:56:55.833899\n",
       "\n",
       "[140 rows x 4 columns]"
      ]
     },
     "execution_count": 3,
     "metadata": {},
     "output_type": "execute_result"
    }
   ],
   "source": [
    "request = '''\n",
    "SELECT checker.uid,\n",
    "       checker.labname,\n",
    "       checker.timestamp AS first_commit_ts,\n",
    "       pageviews.datetime AS first_view_ts\n",
    "FROM checker \n",
    "LEFT JOIN pageviews ON checker.uid=pageviews.uid\n",
    "WHERE status='ready'\n",
    "AND numTrials=1\n",
    "AND labname IN ('laba04', 'laba04s', 'laba05', 'laba06', 'laba06s', 'project1')\n",
    "AND checker.uid LIKE 'user_%'\n",
    "AND (pageviews.datetime = (SELECT MIN(pageviews.datetime)\n",
    "                           FROM pageviews\n",
    "                           WHERE uid=checker.uid)\n",
    "        OR pageviews.datetime IS NULL)\n",
    "'''\n",
    "datamart = pd.io.sql.read_sql(request, connect, parse_dates=[\n",
    "                              'first_commit_ts', 'first_view_ts'])\n",
    "datamart"
   ]
  },
  {
   "cell_type": "markdown",
   "id": "b850cbc0",
   "metadata": {},
   "source": [
    "Создадим два фрейма данных: тестовый и контрольный:\n",
    "\n",
    "у тестового должны быть пользователи, у которых есть значения в first_view_ts\n",
    "\n",
    "у контрольного должны быть пользователи, у которых отсутствуют значения в first_view_ts"
   ]
  },
  {
   "cell_type": "code",
   "execution_count": 4,
   "id": "73ab2b32",
   "metadata": {},
   "outputs": [],
   "source": [
    "test = datamart[datamart['first_view_ts'].notnull()]\n",
    "control = datamart[datamart['first_view_ts'].isnull()]"
   ]
  },
  {
   "cell_type": "markdown",
   "id": "5e740c78",
   "metadata": {},
   "source": [
    "Найдем среднее значения first_view_ts"
   ]
  },
  {
   "cell_type": "code",
   "execution_count": 5,
   "id": "cbac70c0",
   "metadata": {},
   "outputs": [
    {
     "data": {
      "text/plain": [
       "Timestamp('2020-04-27 00:40:05.761783552')"
      ]
     },
     "execution_count": 5,
     "metadata": {},
     "output_type": "execute_result"
    }
   ],
   "source": [
    "replase_arg = test['first_view_ts'].mean()\n",
    "replase_arg"
   ]
  },
  {
   "cell_type": "markdown",
   "id": "0fd96dbb",
   "metadata": {},
   "source": [
    "Заменим недостающие значения на средние"
   ]
  },
  {
   "cell_type": "code",
   "execution_count": 6,
   "id": "5a7a21c1",
   "metadata": {},
   "outputs": [],
   "source": [
    "control = control.fillna(test['first_view_ts'].mean())"
   ]
  },
  {
   "cell_type": "markdown",
   "id": "00ad0d30",
   "metadata": {},
   "source": [
    "Сохраним обе таблицы в базе данных"
   ]
  },
  {
   "cell_type": "code",
   "execution_count": 7,
   "id": "47e695ef",
   "metadata": {},
   "outputs": [
    {
     "data": {
      "text/plain": [
       "81"
      ]
     },
     "execution_count": 7,
     "metadata": {},
     "output_type": "execute_result"
    }
   ],
   "source": [
    "test.to_sql('test', connect)\n",
    "control.to_sql('control', connect)"
   ]
  },
  {
   "cell_type": "markdown",
   "id": "c68f6f1f",
   "metadata": {},
   "source": [
    "Закроем соединение с базой данных"
   ]
  },
  {
   "cell_type": "code",
   "execution_count": 8,
   "id": "3ae6f079",
   "metadata": {},
   "outputs": [],
   "source": [
    "connect.close()"
   ]
  }
 ],
 "metadata": {
  "kernelspec": {
   "display_name": "Python 3 (ipykernel)",
   "language": "python",
   "name": "python3"
  },
  "language_info": {
   "codemirror_mode": {
    "name": "ipython",
    "version": 3
   },
   "file_extension": ".py",
   "mimetype": "text/x-python",
   "name": "python",
   "nbconvert_exporter": "python",
   "pygments_lexer": "ipython3",
   "version": "3.9.10"
  }
 },
 "nbformat": 4,
 "nbformat_minor": 5
}
