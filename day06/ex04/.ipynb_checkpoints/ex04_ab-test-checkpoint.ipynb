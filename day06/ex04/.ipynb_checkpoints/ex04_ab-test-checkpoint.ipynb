{
 "cells": [
  {
   "cell_type": "code",
   "execution_count": 1,
   "metadata": {
    "id": "zI9aA116P0-K"
   },
   "outputs": [],
   "source": [
    "import pandas as pd\n",
    "import sqlite3"
   ]
  },
  {
   "cell_type": "code",
   "execution_count": 2,
   "metadata": {
    "id": "pfdlM6wjP-3j"
   },
   "outputs": [],
   "source": [
    "col_names = ['datetime', 'user']\n",
    "connect = sqlite3.connect('../data/checking-logs.sqlite')"
   ]
  },
  {
   "cell_type": "markdown",
   "metadata": {
    "id": "8AfYr0ioQKRt"
   },
   "source": [
    "Создадим два фрейма данных: test_results и control_results со столбцами time и avg_diff "
   ]
  },
  {
   "cell_type": "code",
   "execution_count": 3,
   "metadata": {
    "colab": {
     "base_uri": "https://localhost:8080/",
     "height": 112
    },
    "id": "Vb_Ui-y-QQDb",
    "outputId": "6e5aa929-7cf4-408b-f857-7c7e98c81ff7"
   },
   "outputs": [
    {
     "data": {
      "text/html": [
       "<div>\n",
       "<style scoped>\n",
       "    .dataframe tbody tr th:only-of-type {\n",
       "        vertical-align: middle;\n",
       "    }\n",
       "\n",
       "    .dataframe tbody tr th {\n",
       "        vertical-align: top;\n",
       "    }\n",
       "\n",
       "    .dataframe thead th {\n",
       "        text-align: right;\n",
       "    }\n",
       "</style>\n",
       "<table border=\"1\" class=\"dataframe\">\n",
       "  <thead>\n",
       "    <tr style=\"text-align: right;\">\n",
       "      <th></th>\n",
       "      <th>time</th>\n",
       "      <th>avg_diff</th>\n",
       "    </tr>\n",
       "  </thead>\n",
       "  <tbody>\n",
       "    <tr>\n",
       "      <th>0</th>\n",
       "      <td>after</td>\n",
       "      <td>104.6000</td>\n",
       "    </tr>\n",
       "    <tr>\n",
       "      <th>1</th>\n",
       "      <td>before</td>\n",
       "      <td>60.5625</td>\n",
       "    </tr>\n",
       "  </tbody>\n",
       "</table>\n",
       "</div>"
      ],
      "text/plain": [
       "     time  avg_diff\n",
       "0   after  104.6000\n",
       "1  before   60.5625"
      ]
     },
     "execution_count": 3,
     "metadata": {},
     "output_type": "execute_result"
    }
   ],
   "source": [
    "query = '''\n",
    "SELECT time,\n",
    "       avg(diff) AS avg_diff\n",
    "FROM (SELECT uid,\n",
    "             CAST( (JulianDay(datetime(deadlines.deadlines, 'unixepoch')) -\n",
    "                    JulianDay(test.first_commit_ts)\n",
    "                    ) * 24 as Integer\n",
    "                  ) as diff,\n",
    "             CASE WHEN test.first_commit_ts < test.first_view_ts THEN 'before'\n",
    "             ELSE 'after' END AS time\n",
    "       FROM test left join deadlines on test.labname = deadlines.labs\n",
    "       WHERE labname <> 'project1'\n",
    "      )\n",
    "WHERE uid in (SELECT uid\n",
    "              FROM (SELECT uid,\n",
    "                           CASE WHEN test.first_commit_ts < test.first_view_ts THEN 'before'\n",
    "                           ELSE 'after' END as time\n",
    "                    FROM test\n",
    "                    LEFT JOIN deadlines ON test.labname=deadlines.labs\n",
    "                    WHERE labname <> 'project1'\n",
    "                    )\n",
    "               GROUP BY uid\n",
    "               HAVING COUNT(DISTINCT time)=2\n",
    "               )\n",
    "GROUP BY time\n",
    "'''\n",
    "test_results = pd.io.sql.read_sql(query, connect)\n",
    "test_results"
   ]
  },
  {
   "cell_type": "code",
   "execution_count": 4,
   "metadata": {
    "colab": {
     "base_uri": "https://localhost:8080/",
     "height": 112
    },
    "id": "f5KErKdOQ9w7",
    "outputId": "81b383c7-a191-47fc-a710-3d3089ce5e54"
   },
   "outputs": [
    {
     "data": {
      "text/html": [
       "<div>\n",
       "<style scoped>\n",
       "    .dataframe tbody tr th:only-of-type {\n",
       "        vertical-align: middle;\n",
       "    }\n",
       "\n",
       "    .dataframe tbody tr th {\n",
       "        vertical-align: top;\n",
       "    }\n",
       "\n",
       "    .dataframe thead th {\n",
       "        text-align: right;\n",
       "    }\n",
       "</style>\n",
       "<table border=\"1\" class=\"dataframe\">\n",
       "  <thead>\n",
       "    <tr style=\"text-align: right;\">\n",
       "      <th></th>\n",
       "      <th>time</th>\n",
       "      <th>avg_diff</th>\n",
       "    </tr>\n",
       "  </thead>\n",
       "  <tbody>\n",
       "    <tr>\n",
       "      <th>0</th>\n",
       "      <td>after</td>\n",
       "      <td>117.636364</td>\n",
       "    </tr>\n",
       "    <tr>\n",
       "      <th>1</th>\n",
       "      <td>before</td>\n",
       "      <td>99.464286</td>\n",
       "    </tr>\n",
       "  </tbody>\n",
       "</table>\n",
       "</div>"
      ],
      "text/plain": [
       "     time    avg_diff\n",
       "0   after  117.636364\n",
       "1  before   99.464286"
      ]
     },
     "execution_count": 4,
     "metadata": {},
     "output_type": "execute_result"
    }
   ],
   "source": [
    "query = '''\n",
    "SELECT time,\n",
    "       avg(diff) AS avg_diff\n",
    "FROM (SELECT uid,\n",
    "             CAST( (JulianDay(datetime(deadlines.deadlines, 'unixepoch')) -\n",
    "                    JulianDay(control.first_commit_ts)\n",
    "                    ) * 24 as Integer\n",
    "                  ) as diff,\n",
    "             CASE WHEN control.first_commit_ts < control.first_view_ts THEN 'before'\n",
    "             ELSE 'after'\n",
    "             END AS time\n",
    "             FROM control\n",
    "             LEFT JOIN deadlines ON control.labname=deadlines.labs\n",
    "             WHERE labname <> 'project1'\n",
    "      )\n",
    "WHERE uid IN (SELECT uid\n",
    "              FROM (SELECT uid,\n",
    "                           CASE WHEN control.first_commit_ts < control.first_view_ts THEN 'before'\n",
    "                           ELSE 'after'\n",
    "                           END AS time\n",
    "                    FROM control\n",
    "                    LEFT JOIN deadlines ON control.labname=deadlines.labs\n",
    "                    WHERE labname <> 'project1'\n",
    "                    )\n",
    "              GROUP BY uid\n",
    "              HAVING COUNT(distinct time)=2\n",
    "              )\n",
    "GROUP BY time\n",
    "'''\n",
    "control_results = pd.io.sql.read_sql(query, connect)\n",
    "control_results"
   ]
  },
  {
   "cell_type": "markdown",
   "metadata": {
    "id": "2aXLvVj0SCid"
   },
   "source": [
    "В тестовой группе дельта до первого посещения новостной ленты значительно отличается по сравнению с дельтой после."
   ]
  },
  {
   "cell_type": "code",
   "execution_count": 5,
   "metadata": {
    "colab": {
     "base_uri": "https://localhost:8080/"
    },
    "id": "2HxGcLRpSsUm",
    "outputId": "18605604-1d88-4d64-ef5b-328de1b4b754"
   },
   "outputs": [
    {
     "name": "stdout",
     "output_type": "stream",
     "text": [
      "42.0 %\n"
     ]
    }
   ],
   "source": [
    "percent_test = round((test_results.avg_diff[0] - test_results.avg_diff[1]) / test_results.avg_diff[0] * 100, 0)\n",
    "print(percent_test, '%')"
   ]
  },
  {
   "cell_type": "markdown",
   "metadata": {
    "id": "oU99IVr6SYuF"
   },
   "source": [
    "Эта разница существенно меньше в контрольной группе."
   ]
  },
  {
   "cell_type": "code",
   "execution_count": 6,
   "metadata": {
    "colab": {
     "base_uri": "https://localhost:8080/"
    },
    "id": "wC2x9siiUL2F",
    "outputId": "d6e4296c-37a9-43ff-8e09-9e4abdceee8f"
   },
   "outputs": [
    {
     "name": "stdout",
     "output_type": "stream",
     "text": [
      "15.0 %\n"
     ]
    }
   ],
   "source": [
    "percent_control = round((control_results.avg_diff[0] - control_results.avg_diff[1]) / control_results.avg_diff[0] * 100, 0)\n",
    "print(percent_control, '%')"
   ]
  },
  {
   "cell_type": "markdown",
   "metadata": {
    "id": "PRKIJU-5Sbbf"
   },
   "source": [
    "Вывод: гипотеза верна, создание страницы было отличной идеей. "
   ]
  }
 ],
 "metadata": {
  "colab": {
   "collapsed_sections": [],
   "provenance": []
  },
  "kernelspec": {
   "display_name": "Python 3 (ipykernel)",
   "language": "python",
   "name": "python3"
  },
  "language_info": {
   "codemirror_mode": {
    "name": "ipython",
    "version": 3
   },
   "file_extension": ".py",
   "mimetype": "text/x-python",
   "name": "python",
   "nbconvert_exporter": "python",
   "pygments_lexer": "ipython3",
   "version": "3.9.10"
  }
 },
 "nbformat": 4,
 "nbformat_minor": 1
}
