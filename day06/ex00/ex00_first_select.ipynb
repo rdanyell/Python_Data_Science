{
 "cells": [
  {
   "cell_type": "markdown",
   "metadata": {
    "id": "4QQCvKbwMgnm"
   },
   "source": [
    "#ex00"
   ]
  },
  {
   "cell_type": "code",
   "execution_count": 1,
   "metadata": {
    "id": "Khf2MoEIky12"
   },
   "outputs": [],
   "source": [
    "import pandas as pd\n",
    "import sqlite3"
   ]
  },
  {
   "cell_type": "markdown",
   "metadata": {
    "id": "DXCaf8OZ5Adi"
   },
   "source": [
    "Создадим подключение к базе данных с помощью библиотеки sqlite3"
   ]
  },
  {
   "cell_type": "code",
   "execution_count": 2,
   "metadata": {
    "id": "VskMHqquoDI3"
   },
   "outputs": [],
   "source": [
    "col_names = ['datetime', 'user']\n",
    "connect = sqlite3.connect('../data/checking-logs.sqlite')"
   ]
  },
  {
   "cell_type": "markdown",
   "metadata": {
    "id": "lxDfbGBM5EQh"
   },
   "source": [
    "Получим схему просмотров страниц таблицы с помощью pd.io.sql.read_sql и запроса\n",
    "\n",
    "Загрузить данные из SQL базы можно с помощью функции pd.read_SQL. Она автоматически преобразует столбцы SQL в столбцы DataFrame.\n",
    "\n",
    "Команда PRAGMA в SQLite для получения метаданных.PRAGMA table_info(tableName) возвращает одну строку для каждого столбца в таблице.\n",
    "\n",
    "http://python-3.ru/page/sqlite-metadata"
   ]
  },
  {
   "cell_type": "code",
   "execution_count": 3,
   "metadata": {
    "colab": {
     "base_uri": "https://localhost:8080/",
     "height": 143
    },
    "id": "Xja7ooo9Bwid",
    "outputId": "d66f3f8f-d6a6-4439-c651-abd3c04ca919"
   },
   "outputs": [
    {
     "data": {
      "text/html": [
       "<div>\n",
       "<style scoped>\n",
       "    .dataframe tbody tr th:only-of-type {\n",
       "        vertical-align: middle;\n",
       "    }\n",
       "\n",
       "    .dataframe tbody tr th {\n",
       "        vertical-align: top;\n",
       "    }\n",
       "\n",
       "    .dataframe thead th {\n",
       "        text-align: right;\n",
       "    }\n",
       "</style>\n",
       "<table border=\"1\" class=\"dataframe\">\n",
       "  <thead>\n",
       "    <tr style=\"text-align: right;\">\n",
       "      <th></th>\n",
       "      <th>cid</th>\n",
       "      <th>name</th>\n",
       "      <th>type</th>\n",
       "      <th>notnull</th>\n",
       "      <th>dflt_value</th>\n",
       "      <th>pk</th>\n",
       "    </tr>\n",
       "  </thead>\n",
       "  <tbody>\n",
       "    <tr>\n",
       "      <th>0</th>\n",
       "      <td>0</td>\n",
       "      <td>index</td>\n",
       "      <td>INTEGER</td>\n",
       "      <td>0</td>\n",
       "      <td>None</td>\n",
       "      <td>0</td>\n",
       "    </tr>\n",
       "    <tr>\n",
       "      <th>1</th>\n",
       "      <td>1</td>\n",
       "      <td>uid</td>\n",
       "      <td>TEXT</td>\n",
       "      <td>0</td>\n",
       "      <td>None</td>\n",
       "      <td>0</td>\n",
       "    </tr>\n",
       "    <tr>\n",
       "      <th>2</th>\n",
       "      <td>2</td>\n",
       "      <td>datetime</td>\n",
       "      <td>TIMESTAMP</td>\n",
       "      <td>0</td>\n",
       "      <td>None</td>\n",
       "      <td>0</td>\n",
       "    </tr>\n",
       "  </tbody>\n",
       "</table>\n",
       "</div>"
      ],
      "text/plain": [
       "   cid      name       type  notnull dflt_value  pk\n",
       "0    0     index    INTEGER        0       None   0\n",
       "1    1       uid       TEXT        0       None   0\n",
       "2    2  datetime  TIMESTAMP        0       None   0"
      ]
     },
     "execution_count": 3,
     "metadata": {},
     "output_type": "execute_result"
    }
   ],
   "source": [
    "query = 'PRAGMA table_info(pageviews);'\n",
    "pd.io.sql.read_sql(query, connect)"
   ]
  },
  {
   "cell_type": "markdown",
   "metadata": {
    "id": "Pmfrs05FDoB3"
   },
   "source": [
    "Получим первые 10 строк просмотров страниц таблицы, чтобы проверить, как выглядит таблица\n",
    "\n",
    "https://pythonworld.ru/obrabotka-dannyx/pandas-cookbook-8.html"
   ]
  },
  {
   "cell_type": "code",
   "execution_count": 4,
   "metadata": {
    "colab": {
     "base_uri": "https://localhost:8080/",
     "height": 363
    },
    "id": "0ZyJL1IaDjA8",
    "outputId": "7bdf4dfe-7adf-458e-b22d-e260267a7211"
   },
   "outputs": [
    {
     "data": {
      "text/html": [
       "<div>\n",
       "<style scoped>\n",
       "    .dataframe tbody tr th:only-of-type {\n",
       "        vertical-align: middle;\n",
       "    }\n",
       "\n",
       "    .dataframe tbody tr th {\n",
       "        vertical-align: top;\n",
       "    }\n",
       "\n",
       "    .dataframe thead th {\n",
       "        text-align: right;\n",
       "    }\n",
       "</style>\n",
       "<table border=\"1\" class=\"dataframe\">\n",
       "  <thead>\n",
       "    <tr style=\"text-align: right;\">\n",
       "      <th></th>\n",
       "      <th>index</th>\n",
       "      <th>uid</th>\n",
       "      <th>datetime</th>\n",
       "    </tr>\n",
       "  </thead>\n",
       "  <tbody>\n",
       "    <tr>\n",
       "      <th>0</th>\n",
       "      <td>0</td>\n",
       "      <td>admin_1</td>\n",
       "      <td>2020-04-17 12:01:08.463179</td>\n",
       "    </tr>\n",
       "    <tr>\n",
       "      <th>1</th>\n",
       "      <td>1</td>\n",
       "      <td>admin_1</td>\n",
       "      <td>2020-04-17 12:01:23.743946</td>\n",
       "    </tr>\n",
       "    <tr>\n",
       "      <th>2</th>\n",
       "      <td>2</td>\n",
       "      <td>admin_3</td>\n",
       "      <td>2020-04-17 12:17:39.287778</td>\n",
       "    </tr>\n",
       "    <tr>\n",
       "      <th>3</th>\n",
       "      <td>3</td>\n",
       "      <td>admin_3</td>\n",
       "      <td>2020-04-17 12:17:40.001768</td>\n",
       "    </tr>\n",
       "    <tr>\n",
       "      <th>4</th>\n",
       "      <td>4</td>\n",
       "      <td>admin_1</td>\n",
       "      <td>2020-04-17 12:27:30.646665</td>\n",
       "    </tr>\n",
       "    <tr>\n",
       "      <th>5</th>\n",
       "      <td>5</td>\n",
       "      <td>admin_1</td>\n",
       "      <td>2020-04-17 12:35:44.884757</td>\n",
       "    </tr>\n",
       "    <tr>\n",
       "      <th>6</th>\n",
       "      <td>6</td>\n",
       "      <td>admin_1</td>\n",
       "      <td>2020-04-17 12:35:52.735016</td>\n",
       "    </tr>\n",
       "    <tr>\n",
       "      <th>7</th>\n",
       "      <td>7</td>\n",
       "      <td>admin_3</td>\n",
       "      <td>2020-04-17 12:36:21.401412</td>\n",
       "    </tr>\n",
       "    <tr>\n",
       "      <th>8</th>\n",
       "      <td>8</td>\n",
       "      <td>admin_3</td>\n",
       "      <td>2020-04-17 12:36:22.023355</td>\n",
       "    </tr>\n",
       "    <tr>\n",
       "      <th>9</th>\n",
       "      <td>9</td>\n",
       "      <td>admin_1</td>\n",
       "      <td>2020-04-17 13:55:19.129243</td>\n",
       "    </tr>\n",
       "  </tbody>\n",
       "</table>\n",
       "</div>"
      ],
      "text/plain": [
       "   index      uid                    datetime\n",
       "0      0  admin_1  2020-04-17 12:01:08.463179\n",
       "1      1  admin_1  2020-04-17 12:01:23.743946\n",
       "2      2  admin_3  2020-04-17 12:17:39.287778\n",
       "3      3  admin_3  2020-04-17 12:17:40.001768\n",
       "4      4  admin_1  2020-04-17 12:27:30.646665\n",
       "5      5  admin_1  2020-04-17 12:35:44.884757\n",
       "6      6  admin_1  2020-04-17 12:35:52.735016\n",
       "7      7  admin_3  2020-04-17 12:36:21.401412\n",
       "8      8  admin_3  2020-04-17 12:36:22.023355\n",
       "9      9  admin_1  2020-04-17 13:55:19.129243"
      ]
     },
     "execution_count": 4,
     "metadata": {},
     "output_type": "execute_result"
    }
   ],
   "source": [
    "query = 'SELECT * FROM pageviews LIMIT 10;'\n",
    "pd.io.sql.read_sql(query, connect)"
   ]
  },
  {
   "cell_type": "markdown",
   "metadata": {
    "id": "Q1nyvtOWE-c1"
   },
   "source": [
    "Получим подтаблицу, учитывая все условия задания\n",
    "\n",
    "https://pythonru.com/biblioteki/chtenie-i-zapis-dannyh-excel-json-sql-mongodb-pd-8\n",
    "\n",
    "https://www.site-do.ru/db/sql4.php\n",
    "\n",
    "SELECT какие столбцы выбираем\n",
    "\n",
    "FROM откуда\n",
    "\n",
    "WHERE uid like \"user_%\" такие что содержат фрагмент user_ и дальше что угодно\n",
    "\n",
    "ORDER BY uid asc сортировка по возрастанию\n",
    "\n",
    "https://runebook.dev/ru/docs/pandas/reference/api/pandas.read_sql\n",
    "\n",
    "parse_dates - Список названий колонок для разбора в качестве дат"
   ]
  },
  {
   "cell_type": "code",
   "execution_count": 5,
   "metadata": {
    "colab": {
     "base_uri": "https://localhost:8080/",
     "height": 455
    },
    "id": "IiIEaSIQF3ez",
    "outputId": "8db2603e-42cb-4015-b3e8-e4614fe5bc53"
   },
   "outputs": [
    {
     "data": {
      "text/html": [
       "<div>\n",
       "<style scoped>\n",
       "    .dataframe tbody tr th:only-of-type {\n",
       "        vertical-align: middle;\n",
       "    }\n",
       "\n",
       "    .dataframe tbody tr th {\n",
       "        vertical-align: top;\n",
       "    }\n",
       "\n",
       "    .dataframe thead th {\n",
       "        text-align: right;\n",
       "    }\n",
       "</style>\n",
       "<table border=\"1\" class=\"dataframe\">\n",
       "  <thead>\n",
       "    <tr style=\"text-align: right;\">\n",
       "      <th></th>\n",
       "      <th>uid</th>\n",
       "    </tr>\n",
       "    <tr>\n",
       "      <th>datetime</th>\n",
       "      <th></th>\n",
       "    </tr>\n",
       "  </thead>\n",
       "  <tbody>\n",
       "    <tr>\n",
       "      <th>2020-04-26 21:53:59.624136</th>\n",
       "      <td>user_1</td>\n",
       "    </tr>\n",
       "    <tr>\n",
       "      <th>2020-04-26 22:06:19.478143</th>\n",
       "      <td>user_1</td>\n",
       "    </tr>\n",
       "    <tr>\n",
       "      <th>2020-04-26 22:12:09.614497</th>\n",
       "      <td>user_1</td>\n",
       "    </tr>\n",
       "    <tr>\n",
       "      <th>2020-04-30 19:29:01.831635</th>\n",
       "      <td>user_1</td>\n",
       "    </tr>\n",
       "    <tr>\n",
       "      <th>2020-05-05 20:26:32.894852</th>\n",
       "      <td>user_1</td>\n",
       "    </tr>\n",
       "    <tr>\n",
       "      <th>...</th>\n",
       "      <td>...</td>\n",
       "    </tr>\n",
       "    <tr>\n",
       "      <th>2020-04-29 16:51:21.877630</th>\n",
       "      <td>user_30</td>\n",
       "    </tr>\n",
       "    <tr>\n",
       "      <th>2020-05-09 20:30:47.034282</th>\n",
       "      <td>user_30</td>\n",
       "    </tr>\n",
       "    <tr>\n",
       "      <th>2020-05-22 11:30:18.368990</th>\n",
       "      <td>user_5</td>\n",
       "    </tr>\n",
       "    <tr>\n",
       "      <th>2020-05-21 16:28:28.217529</th>\n",
       "      <td>user_9</td>\n",
       "    </tr>\n",
       "    <tr>\n",
       "      <th>2020-05-21 16:36:40.915488</th>\n",
       "      <td>user_9</td>\n",
       "    </tr>\n",
       "  </tbody>\n",
       "</table>\n",
       "<p>987 rows × 1 columns</p>\n",
       "</div>"
      ],
      "text/plain": [
       "                                uid\n",
       "datetime                           \n",
       "2020-04-26 21:53:59.624136   user_1\n",
       "2020-04-26 22:06:19.478143   user_1\n",
       "2020-04-26 22:12:09.614497   user_1\n",
       "2020-04-30 19:29:01.831635   user_1\n",
       "2020-05-05 20:26:32.894852   user_1\n",
       "...                             ...\n",
       "2020-04-29 16:51:21.877630  user_30\n",
       "2020-05-09 20:30:47.034282  user_30\n",
       "2020-05-22 11:30:18.368990   user_5\n",
       "2020-05-21 16:28:28.217529   user_9\n",
       "2020-05-21 16:36:40.915488   user_9\n",
       "\n",
       "[987 rows x 1 columns]"
      ]
     },
     "execution_count": 5,
     "metadata": {},
     "output_type": "execute_result"
    }
   ],
   "source": [
    "query = '''\n",
    "SELECT uid, datetime\n",
    "FROM pageviews\n",
    "WHERE uid like \"user_%\"\n",
    "ORDER BY uid asc\n",
    "'''\n",
    "pageviews = pd.io.sql.read_sql(query, connect, index_col='datetime', parse_dates=['datetime'])\n",
    "pageviews"
   ]
  },
  {
   "cell_type": "markdown",
   "metadata": {
    "id": "iqya79xRMa6F"
   },
   "source": [
    "Закроем соединение с базой данных"
   ]
  },
  {
   "cell_type": "code",
   "execution_count": 6,
   "metadata": {
    "id": "iA_hLsndMZZG"
   },
   "outputs": [],
   "source": [
    "connect.close()"
   ]
  },
  {
   "cell_type": "code",
   "execution_count": 7,
   "metadata": {},
   "outputs": [
    {
     "name": "stdout",
     "output_type": "stream",
     "text": [
      "<class 'pandas.core.frame.DataFrame'>\n",
      "DatetimeIndex: 987 entries, 2020-04-26 21:53:59.624136 to 2020-05-21 16:36:40.915488\n",
      "Data columns (total 1 columns):\n",
      " #   Column  Non-Null Count  Dtype \n",
      "---  ------  --------------  ----- \n",
      " 0   uid     987 non-null    object\n",
      "dtypes: object(1)\n",
      "memory usage: 15.4+ KB\n"
     ]
    }
   ],
   "source": [
    "pageviews.info()"
   ]
  }
 ],
 "metadata": {
  "colab": {
   "collapsed_sections": [],
   "provenance": []
  },
  "kernelspec": {
   "display_name": "Python 3 (ipykernel)",
   "language": "python",
   "name": "python3"
  },
  "language_info": {
   "codemirror_mode": {
    "name": "ipython",
    "version": 3
   },
   "file_extension": ".py",
   "mimetype": "text/x-python",
   "name": "python",
   "nbconvert_exporter": "python",
   "pygments_lexer": "ipython3",
   "version": "3.9.10"
  }
 },
 "nbformat": 4,
 "nbformat_minor": 1
}
