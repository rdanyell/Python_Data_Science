{
 "cells": [
  {
   "cell_type": "markdown",
   "metadata": {
    "id": "Q4vf652oMmzC"
   },
   "source": [
    "#ex01"
   ]
  },
  {
   "cell_type": "code",
   "execution_count": 1,
   "metadata": {
    "id": "zjctQwwVMqKA"
   },
   "outputs": [],
   "source": [
    "import pandas as pd\n",
    "import sqlite3"
   ]
  },
  {
   "cell_type": "markdown",
   "metadata": {
    "id": "X2L-YgTbNY2R"
   },
   "source": [
    "Создадим подключение к базе данных с помощью библиотеки sqlite3"
   ]
  },
  {
   "cell_type": "code",
   "execution_count": 2,
   "metadata": {
    "id": "QTjY01V2NMBW"
   },
   "outputs": [],
   "source": [
    "col_names = ['datetime', 'user']\n",
    "connect = sqlite3.connect('../data/checking-logs.sqlite')"
   ]
  },
  {
   "cell_type": "markdown",
   "metadata": {
    "id": "mhnak6dTNaAA"
   },
   "source": [
    "Получим схему просмотров страниц таблицы"
   ]
  },
  {
   "cell_type": "code",
   "execution_count": 3,
   "metadata": {
    "colab": {
     "base_uri": "https://localhost:8080/"
    },
    "id": "mxFqAptfNfnN",
    "outputId": "4fa6955a-587d-4983-ac02-f615192bef17"
   },
   "outputs": [
    {
     "data": {
      "text/html": [
       "<div>\n",
       "<style scoped>\n",
       "    .dataframe tbody tr th:only-of-type {\n",
       "        vertical-align: middle;\n",
       "    }\n",
       "\n",
       "    .dataframe tbody tr th {\n",
       "        vertical-align: top;\n",
       "    }\n",
       "\n",
       "    .dataframe thead th {\n",
       "        text-align: right;\n",
       "    }\n",
       "</style>\n",
       "<table border=\"1\" class=\"dataframe\">\n",
       "  <thead>\n",
       "    <tr style=\"text-align: right;\">\n",
       "      <th></th>\n",
       "      <th>cid</th>\n",
       "      <th>name</th>\n",
       "      <th>type</th>\n",
       "      <th>notnull</th>\n",
       "      <th>dflt_value</th>\n",
       "      <th>pk</th>\n",
       "    </tr>\n",
       "  </thead>\n",
       "  <tbody>\n",
       "    <tr>\n",
       "      <th>0</th>\n",
       "      <td>0</td>\n",
       "      <td>index</td>\n",
       "      <td>INTEGER</td>\n",
       "      <td>0</td>\n",
       "      <td>None</td>\n",
       "      <td>0</td>\n",
       "    </tr>\n",
       "    <tr>\n",
       "      <th>1</th>\n",
       "      <td>1</td>\n",
       "      <td>uid</td>\n",
       "      <td>TEXT</td>\n",
       "      <td>0</td>\n",
       "      <td>None</td>\n",
       "      <td>0</td>\n",
       "    </tr>\n",
       "    <tr>\n",
       "      <th>2</th>\n",
       "      <td>2</td>\n",
       "      <td>datetime</td>\n",
       "      <td>TIMESTAMP</td>\n",
       "      <td>0</td>\n",
       "      <td>None</td>\n",
       "      <td>0</td>\n",
       "    </tr>\n",
       "  </tbody>\n",
       "</table>\n",
       "</div>"
      ],
      "text/plain": [
       "   cid      name       type  notnull dflt_value  pk\n",
       "0    0     index    INTEGER        0       None   0\n",
       "1    1       uid       TEXT        0       None   0\n",
       "2    2  datetime  TIMESTAMP        0       None   0"
      ]
     },
     "execution_count": 3,
     "metadata": {},
     "output_type": "execute_result"
    }
   ],
   "source": [
    "query = 'PRAGMA table_info(pageviews);'\n",
    "pd.io.sql.read_sql(query, connect)"
   ]
  },
  {
   "cell_type": "markdown",
   "metadata": {
    "id": "SKjikQ_zNm9u"
   },
   "source": [
    "Получим первые 10 строк просмотров страниц таблицы, чтобы проверить, как выглядит таблица"
   ]
  },
  {
   "cell_type": "code",
   "execution_count": 4,
   "metadata": {
    "id": "eieBTJdxNn9A"
   },
   "outputs": [
    {
     "data": {
      "text/html": [
       "<div>\n",
       "<style scoped>\n",
       "    .dataframe tbody tr th:only-of-type {\n",
       "        vertical-align: middle;\n",
       "    }\n",
       "\n",
       "    .dataframe tbody tr th {\n",
       "        vertical-align: top;\n",
       "    }\n",
       "\n",
       "    .dataframe thead th {\n",
       "        text-align: right;\n",
       "    }\n",
       "</style>\n",
       "<table border=\"1\" class=\"dataframe\">\n",
       "  <thead>\n",
       "    <tr style=\"text-align: right;\">\n",
       "      <th></th>\n",
       "      <th>index</th>\n",
       "      <th>uid</th>\n",
       "      <th>datetime</th>\n",
       "    </tr>\n",
       "  </thead>\n",
       "  <tbody>\n",
       "    <tr>\n",
       "      <th>0</th>\n",
       "      <td>0</td>\n",
       "      <td>admin_1</td>\n",
       "      <td>2020-04-17 12:01:08.463179</td>\n",
       "    </tr>\n",
       "    <tr>\n",
       "      <th>1</th>\n",
       "      <td>1</td>\n",
       "      <td>admin_1</td>\n",
       "      <td>2020-04-17 12:01:23.743946</td>\n",
       "    </tr>\n",
       "    <tr>\n",
       "      <th>2</th>\n",
       "      <td>2</td>\n",
       "      <td>admin_3</td>\n",
       "      <td>2020-04-17 12:17:39.287778</td>\n",
       "    </tr>\n",
       "    <tr>\n",
       "      <th>3</th>\n",
       "      <td>3</td>\n",
       "      <td>admin_3</td>\n",
       "      <td>2020-04-17 12:17:40.001768</td>\n",
       "    </tr>\n",
       "    <tr>\n",
       "      <th>4</th>\n",
       "      <td>4</td>\n",
       "      <td>admin_1</td>\n",
       "      <td>2020-04-17 12:27:30.646665</td>\n",
       "    </tr>\n",
       "    <tr>\n",
       "      <th>5</th>\n",
       "      <td>5</td>\n",
       "      <td>admin_1</td>\n",
       "      <td>2020-04-17 12:35:44.884757</td>\n",
       "    </tr>\n",
       "    <tr>\n",
       "      <th>6</th>\n",
       "      <td>6</td>\n",
       "      <td>admin_1</td>\n",
       "      <td>2020-04-17 12:35:52.735016</td>\n",
       "    </tr>\n",
       "    <tr>\n",
       "      <th>7</th>\n",
       "      <td>7</td>\n",
       "      <td>admin_3</td>\n",
       "      <td>2020-04-17 12:36:21.401412</td>\n",
       "    </tr>\n",
       "    <tr>\n",
       "      <th>8</th>\n",
       "      <td>8</td>\n",
       "      <td>admin_3</td>\n",
       "      <td>2020-04-17 12:36:22.023355</td>\n",
       "    </tr>\n",
       "    <tr>\n",
       "      <th>9</th>\n",
       "      <td>9</td>\n",
       "      <td>admin_1</td>\n",
       "      <td>2020-04-17 13:55:19.129243</td>\n",
       "    </tr>\n",
       "  </tbody>\n",
       "</table>\n",
       "</div>"
      ],
      "text/plain": [
       "   index      uid                    datetime\n",
       "0      0  admin_1  2020-04-17 12:01:08.463179\n",
       "1      1  admin_1  2020-04-17 12:01:23.743946\n",
       "2      2  admin_3  2020-04-17 12:17:39.287778\n",
       "3      3  admin_3  2020-04-17 12:17:40.001768\n",
       "4      4  admin_1  2020-04-17 12:27:30.646665\n",
       "5      5  admin_1  2020-04-17 12:35:44.884757\n",
       "6      6  admin_1  2020-04-17 12:35:52.735016\n",
       "7      7  admin_3  2020-04-17 12:36:21.401412\n",
       "8      8  admin_3  2020-04-17 12:36:22.023355\n",
       "9      9  admin_1  2020-04-17 13:55:19.129243"
      ]
     },
     "execution_count": 4,
     "metadata": {},
     "output_type": "execute_result"
    }
   ],
   "source": [
    "query = 'SELECT * FROM pageviews LIMIT 10;'\n",
    "pd.io.sql.read_sql(query, connect)"
   ]
  },
  {
   "cell_type": "markdown",
   "metadata": {
    "id": "5QtB0kooPpQv"
   },
   "source": [
    "Выберем строки из таблицы по условиям:\n",
    "\n",
    "∗ status = ’ready’\n",
    "\n",
    "∗ numTrials = 1\n",
    "\n",
    "∗ labnames should be from the list: ’laba04’, ’laba04s’, ’laba05’, ’laba06’, ’laba06s’, ’project1’\n",
    "\n",
    "◦ сохраним в фрейме данных контрольные элементы со столбцом cnt"
   ]
  },
  {
   "cell_type": "code",
   "execution_count": 5,
   "metadata": {
    "colab": {
     "base_uri": "https://localhost:8080/"
    },
    "id": "VPlBNsXRN96e",
    "outputId": "51b0dab7-7642-46b9-97af-ba8d9e625757"
   },
   "outputs": [
    {
     "data": {
      "text/html": [
       "<div>\n",
       "<style scoped>\n",
       "    .dataframe tbody tr th:only-of-type {\n",
       "        vertical-align: middle;\n",
       "    }\n",
       "\n",
       "    .dataframe tbody tr th {\n",
       "        vertical-align: top;\n",
       "    }\n",
       "\n",
       "    .dataframe thead th {\n",
       "        text-align: right;\n",
       "    }\n",
       "</style>\n",
       "<table border=\"1\" class=\"dataframe\">\n",
       "  <thead>\n",
       "    <tr style=\"text-align: right;\">\n",
       "      <th></th>\n",
       "      <th>cnt</th>\n",
       "    </tr>\n",
       "  </thead>\n",
       "  <tbody>\n",
       "    <tr>\n",
       "      <th>0</th>\n",
       "      <td>985</td>\n",
       "    </tr>\n",
       "  </tbody>\n",
       "</table>\n",
       "</div>"
      ],
      "text/plain": [
       "   cnt\n",
       "0  985"
      ]
     },
     "execution_count": 5,
     "metadata": {},
     "output_type": "execute_result"
    }
   ],
   "source": [
    "request = '''\n",
    "SELECT COUNT(*)\n",
    "FROM pageviews\n",
    "WHERE pageviews.uid IN\n",
    "    (SELECT checker.uid\n",
    "    FROM checker\n",
    "    WHERE status='ready'\n",
    "    AND numTrials=1\n",
    "    AND labname in ('laba04', 'laba04s', 'laba05', 'laba06', 'laba06s', 'project1')\n",
    "    )\n",
    "'''\n",
    "checkers = pd.io.sql.read_sql(request, connect)\n",
    "checkers.columns = ['cnt']\n",
    "checkers"
   ]
  },
  {
   "cell_type": "markdown",
   "metadata": {
    "id": "QK08EepCSMko"
   },
   "source": [
    "Закроем соединение с базой данных"
   ]
  },
  {
   "cell_type": "code",
   "execution_count": 6,
   "metadata": {
    "id": "g7lxGignSIQv"
   },
   "outputs": [],
   "source": [
    "connect.close()"
   ]
  }
 ],
 "metadata": {
  "colab": {
   "collapsed_sections": [],
   "provenance": []
  },
  "kernelspec": {
   "display_name": "Python 3 (ipykernel)",
   "language": "python",
   "name": "python3"
  },
  "language_info": {
   "codemirror_mode": {
    "name": "ipython",
    "version": 3
   },
   "file_extension": ".py",
   "mimetype": "text/x-python",
   "name": "python",
   "nbconvert_exporter": "python",
   "pygments_lexer": "ipython3",
   "version": "3.9.10"
  }
 },
 "nbformat": 4,
 "nbformat_minor": 1
}
