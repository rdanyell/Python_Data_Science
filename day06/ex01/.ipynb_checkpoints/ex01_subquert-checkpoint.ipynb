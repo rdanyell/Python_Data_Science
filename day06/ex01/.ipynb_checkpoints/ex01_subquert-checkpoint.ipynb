{
 "cells": [
  {
   "cell_type": "markdown",
   "metadata": {
    "id": "Q4vf652oMmzC"
   },
   "source": [
    "#ex01"
   ]
  },
  {
   "cell_type": "code",
   "execution_count": 1,
   "metadata": {
    "id": "zjctQwwVMqKA"
   },
   "outputs": [],
   "source": [
    "import pandas as pd\n",
    "import sqlite3"
   ]
  },
  {
   "cell_type": "markdown",
   "metadata": {
    "id": "X2L-YgTbNY2R"
   },
   "source": [
    "Создадим подключение к базе данных с помощью библиотеки sqlite3"
   ]
  },
  {
   "cell_type": "code",
   "execution_count": 3,
   "metadata": {
    "id": "QTjY01V2NMBW"
   },
   "outputs": [],
   "source": [
    "col_names = ['datetime', 'user']\n",
    "connect = sqlite3.connect('../data/checking-logs.sqlite.sqlite_copy')"
   ]
  },
  {
   "cell_type": "markdown",
   "metadata": {
    "id": "mhnak6dTNaAA"
   },
   "source": [
    "Получим схему просмотров страниц таблицы"
   ]
  },
  {
   "cell_type": "code",
   "execution_count": 4,
   "metadata": {
    "colab": {
     "base_uri": "https://localhost:8080/"
    },
    "id": "mxFqAptfNfnN",
    "outputId": "4fa6955a-587d-4983-ac02-f615192bef17"
   },
   "outputs": [
    {
     "data": {
      "text/html": [
       "<div>\n",
       "<style scoped>\n",
       "    .dataframe tbody tr th:only-of-type {\n",
       "        vertical-align: middle;\n",
       "    }\n",
       "\n",
       "    .dataframe tbody tr th {\n",
       "        vertical-align: top;\n",
       "    }\n",
       "\n",
       "    .dataframe thead th {\n",
       "        text-align: right;\n",
       "    }\n",
       "</style>\n",
       "<table border=\"1\" class=\"dataframe\">\n",
       "  <thead>\n",
       "    <tr style=\"text-align: right;\">\n",
       "      <th></th>\n",
       "      <th>cid</th>\n",
       "      <th>name</th>\n",
       "      <th>type</th>\n",
       "      <th>notnull</th>\n",
       "      <th>dflt_value</th>\n",
       "      <th>pk</th>\n",
       "    </tr>\n",
       "  </thead>\n",
       "  <tbody>\n",
       "  </tbody>\n",
       "</table>\n",
       "</div>"
      ],
      "text/plain": [
       "Empty DataFrame\n",
       "Columns: [cid, name, type, notnull, dflt_value, pk]\n",
       "Index: []"
      ]
     },
     "execution_count": 4,
     "metadata": {},
     "output_type": "execute_result"
    }
   ],
   "source": [
    "query = 'PRAGMA table_info(pageviews);'\n",
    "pd.io.sql.read_sql(query, connect)"
   ]
  },
  {
   "cell_type": "markdown",
   "metadata": {
    "id": "SKjikQ_zNm9u"
   },
   "source": [
    "Получим первые 10 строк просмотров страниц таблицы, чтобы проверить, как выглядит таблица"
   ]
  },
  {
   "cell_type": "code",
   "execution_count": null,
   "metadata": {
    "id": "eieBTJdxNn9A"
   },
   "outputs": [],
   "source": [
    "query = 'SELECT * FROM pageviews LIMIT 10;'\n",
    "pd.io.sql.read_sql(query, connect)"
   ]
  },
  {
   "cell_type": "markdown",
   "metadata": {
    "id": "5QtB0kooPpQv"
   },
   "source": [
    "Выберем строки из таблицы по условиям:\n",
    "\n",
    "∗ status = ’ready’\n",
    "\n",
    "∗ numTrials = 1\n",
    "\n",
    "∗ labnames should be from the list: ’laba04’, ’laba04s’, ’laba05’, ’laba06’, ’laba06s’, ’project1’\n",
    "\n",
    "◦ сохраним в фрейме данных контрольные элементы со столбцом cnt"
   ]
  },
  {
   "cell_type": "code",
   "execution_count": null,
   "metadata": {
    "colab": {
     "base_uri": "https://localhost:8080/"
    },
    "id": "VPlBNsXRN96e",
    "outputId": "51b0dab7-7642-46b9-97af-ba8d9e625757"
   },
   "outputs": [],
   "source": [
    "request = '''\n",
    "SELECT COUNT(*)\n",
    "FROM pageviews\n",
    "WHERE pageviews.uid IN\n",
    "    (SELECT checker.uid\n",
    "    FROM checker\n",
    "    WHERE status='ready'\n",
    "    AND numTrials=1\n",
    "    AND labname in ('laba04', 'laba04s', 'laba05', 'laba06', 'laba06s', 'project1')\n",
    "    )\n",
    "'''\n",
    "checkers = pd.io.sql.read_sql(request, connect)\n",
    "checkers.columns = ['cnt']\n",
    "checkers"
   ]
  },
  {
   "cell_type": "markdown",
   "metadata": {
    "id": "QK08EepCSMko"
   },
   "source": [
    "Закроем соединение с базой данных"
   ]
  },
  {
   "cell_type": "code",
   "execution_count": null,
   "metadata": {
    "id": "g7lxGignSIQv"
   },
   "outputs": [],
   "source": [
    "connect.close()"
   ]
  }
 ],
 "metadata": {
  "colab": {
   "collapsed_sections": [],
   "provenance": []
  },
  "kernelspec": {
   "display_name": "Python 3 (ipykernel)",
   "language": "python",
   "name": "python3"
  },
  "language_info": {
   "codemirror_mode": {
    "name": "ipython",
    "version": 3
   },
   "file_extension": ".py",
   "mimetype": "text/x-python",
   "name": "python",
   "nbconvert_exporter": "python",
   "pygments_lexer": "ipython3",
   "version": "3.9.10"
  }
 },
 "nbformat": 4,
 "nbformat_minor": 1
}
