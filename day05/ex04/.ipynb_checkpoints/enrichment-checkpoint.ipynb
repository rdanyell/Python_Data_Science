{
 "cells": [
  {
   "cell_type": "code",
   "execution_count": 1,
   "metadata": {
    "colab": {
     "base_uri": "https://localhost:8080/",
     "height": 34
    },
    "executionInfo": {
     "elapsed": 280,
     "status": "ok",
     "timestamp": 1663602788615,
     "user": {
      "displayName": "Наталья Волкова",
      "userId": "00309068704336256241"
     },
     "user_tz": -180
    },
    "id": "pDmzBtw8PtDt",
    "outputId": "5afc59e5-106a-4b30-9a9a-5dddd9d5433e"
   },
   "outputs": [],
   "source": [
    "import pandas as pd\n",
    "import numpy as np\n",
    "import requests"
   ]
  },
  {
   "cell_type": "markdown",
   "metadata": {
    "id": "epuopN_HkGQM"
   },
   "source": [
    " Прочитаем файл JSON, который сохранили в ex02"
   ]
  },
  {
   "cell_type": "code",
   "execution_count": 2,
   "metadata": {
    "colab": {
     "base_uri": "https://localhost:8080/",
     "height": 424
    },
    "executionInfo": {
     "elapsed": 237,
     "status": "ok",
     "timestamp": 1663607379224,
     "user": {
      "displayName": "Наталья Волкова",
      "userId": "00309068704336256241"
     },
     "user_tz": -180
    },
    "id": "bDT7Rv20kZxl",
    "outputId": "0c51691a-e8ea-4574-fb5c-b8804564cab6"
   },
   "outputs": [
    {
     "data": {
      "text/html": [
       "<div>\n",
       "<style scoped>\n",
       "    .dataframe tbody tr th:only-of-type {\n",
       "        vertical-align: middle;\n",
       "    }\n",
       "\n",
       "    .dataframe tbody tr th {\n",
       "        vertical-align: top;\n",
       "    }\n",
       "\n",
       "    .dataframe thead th {\n",
       "        text-align: right;\n",
       "    }\n",
       "</style>\n",
       "<table border=\"1\" class=\"dataframe\">\n",
       "  <thead>\n",
       "    <tr style=\"text-align: right;\">\n",
       "      <th></th>\n",
       "      <th>CarNumber</th>\n",
       "      <th>Refund</th>\n",
       "      <th>Fines</th>\n",
       "      <th>Make</th>\n",
       "      <th>Model</th>\n",
       "    </tr>\n",
       "  </thead>\n",
       "  <tbody>\n",
       "    <tr>\n",
       "      <th>0</th>\n",
       "      <td>Y163O8161RUS</td>\n",
       "      <td>2</td>\n",
       "      <td>3200.0</td>\n",
       "      <td>Ford</td>\n",
       "      <td>Focus</td>\n",
       "    </tr>\n",
       "    <tr>\n",
       "      <th>1</th>\n",
       "      <td>E432XX77RUS</td>\n",
       "      <td>1</td>\n",
       "      <td>6500.0</td>\n",
       "      <td>Toyota</td>\n",
       "      <td>Camry</td>\n",
       "    </tr>\n",
       "    <tr>\n",
       "      <th>2</th>\n",
       "      <td>7184TT36RUS</td>\n",
       "      <td>1</td>\n",
       "      <td>2100.0</td>\n",
       "      <td>Ford</td>\n",
       "      <td>Focus</td>\n",
       "    </tr>\n",
       "    <tr>\n",
       "      <th>3</th>\n",
       "      <td>X582HE161RUS</td>\n",
       "      <td>2</td>\n",
       "      <td>2000.0</td>\n",
       "      <td>Ford</td>\n",
       "      <td>Focus</td>\n",
       "    </tr>\n",
       "    <tr>\n",
       "      <th>4</th>\n",
       "      <td>92918M178RUS</td>\n",
       "      <td>1</td>\n",
       "      <td>5700.0</td>\n",
       "      <td>Ford</td>\n",
       "      <td>Focus</td>\n",
       "    </tr>\n",
       "    <tr>\n",
       "      <th>...</th>\n",
       "      <td>...</td>\n",
       "      <td>...</td>\n",
       "      <td>...</td>\n",
       "      <td>...</td>\n",
       "      <td>...</td>\n",
       "    </tr>\n",
       "    <tr>\n",
       "      <th>720</th>\n",
       "      <td>Y163O8161RUS</td>\n",
       "      <td>2</td>\n",
       "      <td>1600.0</td>\n",
       "      <td>Ford</td>\n",
       "      <td>Focus</td>\n",
       "    </tr>\n",
       "    <tr>\n",
       "      <th>721</th>\n",
       "      <td>M0309X197RUS</td>\n",
       "      <td>1</td>\n",
       "      <td>22300.0</td>\n",
       "      <td>Ford</td>\n",
       "      <td>Focus</td>\n",
       "    </tr>\n",
       "    <tr>\n",
       "      <th>722</th>\n",
       "      <td>O673E8197RUS</td>\n",
       "      <td>2</td>\n",
       "      <td>600.0</td>\n",
       "      <td>Ford</td>\n",
       "      <td>Focus</td>\n",
       "    </tr>\n",
       "    <tr>\n",
       "      <th>723</th>\n",
       "      <td>8610T8154RUS</td>\n",
       "      <td>1</td>\n",
       "      <td>2000.0</td>\n",
       "      <td>Ford</td>\n",
       "      <td>Focus</td>\n",
       "    </tr>\n",
       "    <tr>\n",
       "      <th>724</th>\n",
       "      <td>H419XE197RUS</td>\n",
       "      <td>2</td>\n",
       "      <td>8594.6</td>\n",
       "      <td>Toyota</td>\n",
       "      <td>Corolla</td>\n",
       "    </tr>\n",
       "  </tbody>\n",
       "</table>\n",
       "<p>725 rows × 5 columns</p>\n",
       "</div>"
      ],
      "text/plain": [
       "        CarNumber  Refund    Fines    Make    Model\n",
       "0    Y163O8161RUS       2   3200.0    Ford    Focus\n",
       "1     E432XX77RUS       1   6500.0  Toyota    Camry\n",
       "2     7184TT36RUS       1   2100.0    Ford    Focus\n",
       "3    X582HE161RUS       2   2000.0    Ford    Focus\n",
       "4    92918M178RUS       1   5700.0    Ford    Focus\n",
       "..            ...     ...      ...     ...      ...\n",
       "720  Y163O8161RUS       2   1600.0    Ford    Focus\n",
       "721  M0309X197RUS       1  22300.0    Ford    Focus\n",
       "722  O673E8197RUS       2    600.0    Ford    Focus\n",
       "723  8610T8154RUS       1   2000.0    Ford    Focus\n",
       "724  H419XE197RUS       2   8594.6  Toyota  Corolla\n",
       "\n",
       "[725 rows x 5 columns]"
      ]
     },
     "execution_count": 2,
     "metadata": {},
     "output_type": "execute_result"
    }
   ],
   "source": [
    "df = pd.read_json('../data/auto.json')\n",
    "df"
   ]
  },
  {
   "cell_type": "code",
   "execution_count": 3,
   "metadata": {
    "colab": {
     "base_uri": "https://localhost:8080/"
    },
    "executionInfo": {
     "elapsed": 22,
     "status": "ok",
     "timestamp": 1663601614405,
     "user": {
      "displayName": "Наталья Волкова",
      "userId": "00309068704336256241"
     },
     "user_tz": -180
    },
    "id": "W1Tpx-7wk48s",
    "outputId": "61afa4da-1918-4f9b-8bf3-0865c3a361f5"
   },
   "outputs": [
    {
     "name": "stdout",
     "output_type": "stream",
     "text": [
      "<class 'pandas.core.frame.DataFrame'>\n",
      "RangeIndex: 725 entries, 0 to 724\n",
      "Data columns (total 5 columns):\n",
      " #   Column     Non-Null Count  Dtype  \n",
      "---  ------     --------------  -----  \n",
      " 0   CarNumber  725 non-null    object \n",
      " 1   Refund     725 non-null    int64  \n",
      " 2   Fines      725 non-null    float64\n",
      " 3   Make       725 non-null    object \n",
      " 4   Model      716 non-null    object \n",
      "dtypes: float64(1), int64(1), object(3)\n",
      "memory usage: 28.4+ KB\n"
     ]
    }
   ],
   "source": [
    "df.info()"
   ]
  },
  {
   "cell_type": "markdown",
   "metadata": {
    "id": "7kzaoyZFlA59"
   },
   "source": [
    "◦ один из столбцов имеет тип float, поэтому определим его формат в\n",
    "pandas с помощью pd.options.display.float_format: значения с плавающей запятой должны отображаться с двумя десятичными знаками\n",
    "\n",
    "◦ в модели отсутствуют значения, ничего с ними не делаем"
   ]
  },
  {
   "cell_type": "code",
   "execution_count": 4,
   "metadata": {
    "id": "XpsmTKbIlT4V"
   },
   "outputs": [],
   "source": [
    "pd.options.display.float_format = '{:,.2f}'.format"
   ]
  },
  {
   "cell_type": "markdown",
   "metadata": {
    "id": "aTOSF-YqmNqN"
   },
   "source": [
    "Добавим новые данные (выдуманные штрафы). Закрепленные значения - номер, марка, модель, возврат и штрафы рандомные из имеющихся.\n"
   ]
  },
  {
   "cell_type": "code",
   "execution_count": 5,
   "metadata": {
    "colab": {
     "base_uri": "https://localhost:8080/",
     "height": 424
    },
    "executionInfo": {
     "elapsed": 358,
     "status": "ok",
     "timestamp": 1663607384792,
     "user": {
      "displayName": "Наталья Волкова",
      "userId": "00309068704336256241"
     },
     "user_tz": -180
    },
    "id": "uYJ-WRu8nGaP",
    "outputId": "9afd81d9-6959-42a7-afdf-f161061be126"
   },
   "outputs": [
    {
     "data": {
      "text/html": [
       "<div>\n",
       "<style scoped>\n",
       "    .dataframe tbody tr th:only-of-type {\n",
       "        vertical-align: middle;\n",
       "    }\n",
       "\n",
       "    .dataframe tbody tr th {\n",
       "        vertical-align: top;\n",
       "    }\n",
       "\n",
       "    .dataframe thead th {\n",
       "        text-align: right;\n",
       "    }\n",
       "</style>\n",
       "<table border=\"1\" class=\"dataframe\">\n",
       "  <thead>\n",
       "    <tr style=\"text-align: right;\">\n",
       "      <th></th>\n",
       "      <th>CarNumber</th>\n",
       "      <th>Refund</th>\n",
       "      <th>Fines</th>\n",
       "      <th>Make</th>\n",
       "      <th>Model</th>\n",
       "    </tr>\n",
       "  </thead>\n",
       "  <tbody>\n",
       "    <tr>\n",
       "      <th>0</th>\n",
       "      <td>M0299X197RUS</td>\n",
       "      <td>2</td>\n",
       "      <td>19,200.00</td>\n",
       "      <td>Ford</td>\n",
       "      <td>Focus</td>\n",
       "    </tr>\n",
       "    <tr>\n",
       "      <th>1</th>\n",
       "      <td>83298C154RUS</td>\n",
       "      <td>2</td>\n",
       "      <td>8,594.60</td>\n",
       "      <td>Ford</td>\n",
       "      <td>Focus</td>\n",
       "    </tr>\n",
       "    <tr>\n",
       "      <th>2</th>\n",
       "      <td>H957HY161RUS</td>\n",
       "      <td>1</td>\n",
       "      <td>2,000.00</td>\n",
       "      <td>Ford</td>\n",
       "      <td>Focus</td>\n",
       "    </tr>\n",
       "    <tr>\n",
       "      <th>3</th>\n",
       "      <td>T941CC96RUS</td>\n",
       "      <td>1</td>\n",
       "      <td>2,000.00</td>\n",
       "      <td>Ford</td>\n",
       "      <td>Focus</td>\n",
       "    </tr>\n",
       "    <tr>\n",
       "      <th>4</th>\n",
       "      <td>H966HY161RUS</td>\n",
       "      <td>1</td>\n",
       "      <td>500.00</td>\n",
       "      <td>Ford</td>\n",
       "      <td>Focus</td>\n",
       "    </tr>\n",
       "    <tr>\n",
       "      <th>...</th>\n",
       "      <td>...</td>\n",
       "      <td>...</td>\n",
       "      <td>...</td>\n",
       "      <td>...</td>\n",
       "      <td>...</td>\n",
       "    </tr>\n",
       "    <tr>\n",
       "      <th>195</th>\n",
       "      <td>8182XX154RUS</td>\n",
       "      <td>1</td>\n",
       "      <td>200.00</td>\n",
       "      <td>Ford</td>\n",
       "      <td>Focus</td>\n",
       "    </tr>\n",
       "    <tr>\n",
       "      <th>196</th>\n",
       "      <td>X796TH96RUS</td>\n",
       "      <td>1</td>\n",
       "      <td>500.00</td>\n",
       "      <td>Ford</td>\n",
       "      <td>Focus</td>\n",
       "    </tr>\n",
       "    <tr>\n",
       "      <th>197</th>\n",
       "      <td>T011MY163RUS</td>\n",
       "      <td>2</td>\n",
       "      <td>4,000.00</td>\n",
       "      <td>Ford</td>\n",
       "      <td>Focus</td>\n",
       "    </tr>\n",
       "    <tr>\n",
       "      <th>198</th>\n",
       "      <td>T341CC96RUS</td>\n",
       "      <td>2</td>\n",
       "      <td>1,000.00</td>\n",
       "      <td>Volkswagen</td>\n",
       "      <td>Passat</td>\n",
       "    </tr>\n",
       "    <tr>\n",
       "      <th>199</th>\n",
       "      <td>T119CT96RUS</td>\n",
       "      <td>1</td>\n",
       "      <td>2,000.00</td>\n",
       "      <td>Ford</td>\n",
       "      <td>Focus</td>\n",
       "    </tr>\n",
       "  </tbody>\n",
       "</table>\n",
       "<p>200 rows × 5 columns</p>\n",
       "</div>"
      ],
      "text/plain": [
       "        CarNumber  Refund     Fines        Make   Model\n",
       "0    M0299X197RUS       2 19,200.00        Ford   Focus\n",
       "1    83298C154RUS       2  8,594.60        Ford   Focus\n",
       "2    H957HY161RUS       1  2,000.00        Ford   Focus\n",
       "3     T941CC96RUS       1  2,000.00        Ford   Focus\n",
       "4    H966HY161RUS       1    500.00        Ford   Focus\n",
       "..            ...     ...       ...         ...     ...\n",
       "195  8182XX154RUS       1    200.00        Ford   Focus\n",
       "196   X796TH96RUS       1    500.00        Ford   Focus\n",
       "197  T011MY163RUS       2  4,000.00        Ford   Focus\n",
       "198   T341CC96RUS       2  1,000.00  Volkswagen  Passat\n",
       "199   T119CT96RUS       1  2,000.00        Ford   Focus\n",
       "\n",
       "[200 rows x 5 columns]"
      ]
     },
     "execution_count": 5,
     "metadata": {},
     "output_type": "execute_result"
    }
   ],
   "source": [
    "sample = df.sample(n=200, random_state=21).reset_index(drop=True)\n",
    "sample"
   ]
  },
  {
   "cell_type": "markdown",
   "metadata": {
    "id": "pql5C855ynVd"
   },
   "source": [
    "Выберем 200 случайных значений для возвратов и штрафов и заменим ими столбцы в нашей выборке"
   ]
  },
  {
   "cell_type": "code",
   "execution_count": 6,
   "metadata": {
    "id": "rvXWpO33qdzd"
   },
   "outputs": [
    {
     "data": {
      "text/plain": [
       "0      1\n",
       "1      2\n",
       "2      2\n",
       "3      1\n",
       "4      1\n",
       "      ..\n",
       "195    1\n",
       "196    1\n",
       "197    2\n",
       "198    2\n",
       "199    2\n",
       "Name: Refund, Length: 200, dtype: int64"
      ]
     },
     "execution_count": 6,
     "metadata": {},
     "output_type": "execute_result"
    }
   ],
   "source": [
    "sample_for_Refund = df.sample(n=200, random_state=42).reset_index(drop=True)\n",
    "sample_for_Refund['Refund']"
   ]
  },
  {
   "cell_type": "code",
   "execution_count": 7,
   "metadata": {
    "id": "50gNl7c5qfvu"
   },
   "outputs": [
    {
     "data": {
      "text/plain": [
       "0     8,300.00\n",
       "1     8,594.60\n",
       "2     1,300.00\n",
       "3     2,400.00\n",
       "4     2,400.00\n",
       "        ...   \n",
       "195   9,500.00\n",
       "196   2,000.00\n",
       "197   4,400.00\n",
       "198     800.00\n",
       "199   1,400.00\n",
       "Name: Fines, Length: 200, dtype: float64"
      ]
     },
     "execution_count": 7,
     "metadata": {},
     "output_type": "execute_result"
    }
   ],
   "source": [
    "sample_for_Fines = df.sample(n=200, random_state=30).reset_index(drop=True)\n",
    "sample_for_Fines['Fines']"
   ]
  },
  {
   "cell_type": "code",
   "execution_count": 8,
   "metadata": {
    "id": "xjYcUqcoydPe"
   },
   "outputs": [
    {
     "data": {
      "text/html": [
       "<div>\n",
       "<style scoped>\n",
       "    .dataframe tbody tr th:only-of-type {\n",
       "        vertical-align: middle;\n",
       "    }\n",
       "\n",
       "    .dataframe tbody tr th {\n",
       "        vertical-align: top;\n",
       "    }\n",
       "\n",
       "    .dataframe thead th {\n",
       "        text-align: right;\n",
       "    }\n",
       "</style>\n",
       "<table border=\"1\" class=\"dataframe\">\n",
       "  <thead>\n",
       "    <tr style=\"text-align: right;\">\n",
       "      <th></th>\n",
       "      <th>CarNumber</th>\n",
       "      <th>Refund</th>\n",
       "      <th>Fines</th>\n",
       "      <th>Make</th>\n",
       "      <th>Model</th>\n",
       "    </tr>\n",
       "  </thead>\n",
       "  <tbody>\n",
       "    <tr>\n",
       "      <th>0</th>\n",
       "      <td>M0299X197RUS</td>\n",
       "      <td>1</td>\n",
       "      <td>8,300.00</td>\n",
       "      <td>Ford</td>\n",
       "      <td>Focus</td>\n",
       "    </tr>\n",
       "    <tr>\n",
       "      <th>1</th>\n",
       "      <td>83298C154RUS</td>\n",
       "      <td>2</td>\n",
       "      <td>8,594.60</td>\n",
       "      <td>Ford</td>\n",
       "      <td>Focus</td>\n",
       "    </tr>\n",
       "    <tr>\n",
       "      <th>2</th>\n",
       "      <td>H957HY161RUS</td>\n",
       "      <td>2</td>\n",
       "      <td>1,300.00</td>\n",
       "      <td>Ford</td>\n",
       "      <td>Focus</td>\n",
       "    </tr>\n",
       "    <tr>\n",
       "      <th>3</th>\n",
       "      <td>T941CC96RUS</td>\n",
       "      <td>1</td>\n",
       "      <td>2,400.00</td>\n",
       "      <td>Ford</td>\n",
       "      <td>Focus</td>\n",
       "    </tr>\n",
       "    <tr>\n",
       "      <th>4</th>\n",
       "      <td>H966HY161RUS</td>\n",
       "      <td>1</td>\n",
       "      <td>2,400.00</td>\n",
       "      <td>Ford</td>\n",
       "      <td>Focus</td>\n",
       "    </tr>\n",
       "    <tr>\n",
       "      <th>...</th>\n",
       "      <td>...</td>\n",
       "      <td>...</td>\n",
       "      <td>...</td>\n",
       "      <td>...</td>\n",
       "      <td>...</td>\n",
       "    </tr>\n",
       "    <tr>\n",
       "      <th>195</th>\n",
       "      <td>8182XX154RUS</td>\n",
       "      <td>1</td>\n",
       "      <td>9,500.00</td>\n",
       "      <td>Ford</td>\n",
       "      <td>Focus</td>\n",
       "    </tr>\n",
       "    <tr>\n",
       "      <th>196</th>\n",
       "      <td>X796TH96RUS</td>\n",
       "      <td>1</td>\n",
       "      <td>2,000.00</td>\n",
       "      <td>Ford</td>\n",
       "      <td>Focus</td>\n",
       "    </tr>\n",
       "    <tr>\n",
       "      <th>197</th>\n",
       "      <td>T011MY163RUS</td>\n",
       "      <td>2</td>\n",
       "      <td>4,400.00</td>\n",
       "      <td>Ford</td>\n",
       "      <td>Focus</td>\n",
       "    </tr>\n",
       "    <tr>\n",
       "      <th>198</th>\n",
       "      <td>T341CC96RUS</td>\n",
       "      <td>2</td>\n",
       "      <td>800.00</td>\n",
       "      <td>Volkswagen</td>\n",
       "      <td>Passat</td>\n",
       "    </tr>\n",
       "    <tr>\n",
       "      <th>199</th>\n",
       "      <td>T119CT96RUS</td>\n",
       "      <td>2</td>\n",
       "      <td>1,400.00</td>\n",
       "      <td>Ford</td>\n",
       "      <td>Focus</td>\n",
       "    </tr>\n",
       "  </tbody>\n",
       "</table>\n",
       "<p>200 rows × 5 columns</p>\n",
       "</div>"
      ],
      "text/plain": [
       "        CarNumber  Refund    Fines        Make   Model\n",
       "0    M0299X197RUS       1 8,300.00        Ford   Focus\n",
       "1    83298C154RUS       2 8,594.60        Ford   Focus\n",
       "2    H957HY161RUS       2 1,300.00        Ford   Focus\n",
       "3     T941CC96RUS       1 2,400.00        Ford   Focus\n",
       "4    H966HY161RUS       1 2,400.00        Ford   Focus\n",
       "..            ...     ...      ...         ...     ...\n",
       "195  8182XX154RUS       1 9,500.00        Ford   Focus\n",
       "196   X796TH96RUS       1 2,000.00        Ford   Focus\n",
       "197  T011MY163RUS       2 4,400.00        Ford   Focus\n",
       "198   T341CC96RUS       2   800.00  Volkswagen  Passat\n",
       "199   T119CT96RUS       2 1,400.00        Ford   Focus\n",
       "\n",
       "[200 rows x 5 columns]"
      ]
     },
     "execution_count": 8,
     "metadata": {},
     "output_type": "execute_result"
    }
   ],
   "source": [
    "sample['Fines'] = sample_for_Fines['Fines']\n",
    "sample['Refund'] = sample_for_Refund['Refund']\n",
    "sample"
   ]
  },
  {
   "cell_type": "markdown",
   "metadata": {
    "id": "m1YD-P43zBx0"
   },
   "source": [
    "Добавим эти строкм в основной датафрейм"
   ]
  },
  {
   "cell_type": "code",
   "execution_count": 9,
   "metadata": {
    "id": "0NNBlBz1nXV9"
   },
   "outputs": [
    {
     "data": {
      "text/html": [
       "<div>\n",
       "<style scoped>\n",
       "    .dataframe tbody tr th:only-of-type {\n",
       "        vertical-align: middle;\n",
       "    }\n",
       "\n",
       "    .dataframe tbody tr th {\n",
       "        vertical-align: top;\n",
       "    }\n",
       "\n",
       "    .dataframe thead th {\n",
       "        text-align: right;\n",
       "    }\n",
       "</style>\n",
       "<table border=\"1\" class=\"dataframe\">\n",
       "  <thead>\n",
       "    <tr style=\"text-align: right;\">\n",
       "      <th></th>\n",
       "      <th>CarNumber</th>\n",
       "      <th>Refund</th>\n",
       "      <th>Fines</th>\n",
       "      <th>Make</th>\n",
       "      <th>Model</th>\n",
       "    </tr>\n",
       "  </thead>\n",
       "  <tbody>\n",
       "    <tr>\n",
       "      <th>0</th>\n",
       "      <td>Y163O8161RUS</td>\n",
       "      <td>2</td>\n",
       "      <td>3,200.00</td>\n",
       "      <td>Ford</td>\n",
       "      <td>Focus</td>\n",
       "    </tr>\n",
       "    <tr>\n",
       "      <th>1</th>\n",
       "      <td>E432XX77RUS</td>\n",
       "      <td>1</td>\n",
       "      <td>6,500.00</td>\n",
       "      <td>Toyota</td>\n",
       "      <td>Camry</td>\n",
       "    </tr>\n",
       "    <tr>\n",
       "      <th>2</th>\n",
       "      <td>7184TT36RUS</td>\n",
       "      <td>1</td>\n",
       "      <td>2,100.00</td>\n",
       "      <td>Ford</td>\n",
       "      <td>Focus</td>\n",
       "    </tr>\n",
       "    <tr>\n",
       "      <th>3</th>\n",
       "      <td>X582HE161RUS</td>\n",
       "      <td>2</td>\n",
       "      <td>2,000.00</td>\n",
       "      <td>Ford</td>\n",
       "      <td>Focus</td>\n",
       "    </tr>\n",
       "    <tr>\n",
       "      <th>4</th>\n",
       "      <td>92918M178RUS</td>\n",
       "      <td>1</td>\n",
       "      <td>5,700.00</td>\n",
       "      <td>Ford</td>\n",
       "      <td>Focus</td>\n",
       "    </tr>\n",
       "    <tr>\n",
       "      <th>...</th>\n",
       "      <td>...</td>\n",
       "      <td>...</td>\n",
       "      <td>...</td>\n",
       "      <td>...</td>\n",
       "      <td>...</td>\n",
       "    </tr>\n",
       "    <tr>\n",
       "      <th>195</th>\n",
       "      <td>8182XX154RUS</td>\n",
       "      <td>1</td>\n",
       "      <td>9,500.00</td>\n",
       "      <td>Ford</td>\n",
       "      <td>Focus</td>\n",
       "    </tr>\n",
       "    <tr>\n",
       "      <th>196</th>\n",
       "      <td>X796TH96RUS</td>\n",
       "      <td>1</td>\n",
       "      <td>2,000.00</td>\n",
       "      <td>Ford</td>\n",
       "      <td>Focus</td>\n",
       "    </tr>\n",
       "    <tr>\n",
       "      <th>197</th>\n",
       "      <td>T011MY163RUS</td>\n",
       "      <td>2</td>\n",
       "      <td>4,400.00</td>\n",
       "      <td>Ford</td>\n",
       "      <td>Focus</td>\n",
       "    </tr>\n",
       "    <tr>\n",
       "      <th>198</th>\n",
       "      <td>T341CC96RUS</td>\n",
       "      <td>2</td>\n",
       "      <td>800.00</td>\n",
       "      <td>Volkswagen</td>\n",
       "      <td>Passat</td>\n",
       "    </tr>\n",
       "    <tr>\n",
       "      <th>199</th>\n",
       "      <td>T119CT96RUS</td>\n",
       "      <td>2</td>\n",
       "      <td>1,400.00</td>\n",
       "      <td>Ford</td>\n",
       "      <td>Focus</td>\n",
       "    </tr>\n",
       "  </tbody>\n",
       "</table>\n",
       "<p>925 rows × 5 columns</p>\n",
       "</div>"
      ],
      "text/plain": [
       "        CarNumber  Refund    Fines        Make   Model\n",
       "0    Y163O8161RUS       2 3,200.00        Ford   Focus\n",
       "1     E432XX77RUS       1 6,500.00      Toyota   Camry\n",
       "2     7184TT36RUS       1 2,100.00        Ford   Focus\n",
       "3    X582HE161RUS       2 2,000.00        Ford   Focus\n",
       "4    92918M178RUS       1 5,700.00        Ford   Focus\n",
       "..            ...     ...      ...         ...     ...\n",
       "195  8182XX154RUS       1 9,500.00        Ford   Focus\n",
       "196   X796TH96RUS       1 2,000.00        Ford   Focus\n",
       "197  T011MY163RUS       2 4,400.00        Ford   Focus\n",
       "198   T341CC96RUS       2   800.00  Volkswagen  Passat\n",
       "199   T119CT96RUS       2 1,400.00        Ford   Focus\n",
       "\n",
       "[925 rows x 5 columns]"
      ]
     },
     "execution_count": 9,
     "metadata": {},
     "output_type": "execute_result"
    }
   ],
   "source": [
    "concat_rows = pd.concat([df, sample])\n",
    "concat_rows"
   ]
  },
  {
   "cell_type": "markdown",
   "metadata": {
    "id": "uBUR08cslQpm"
   },
   "source": [
    "Дополним concat_rows новым столбцом со сгенерированными данными"
   ]
  },
  {
   "cell_type": "code",
   "execution_count": 10,
   "metadata": {
    "id": "C42wSqiJz3aF"
   },
   "outputs": [],
   "source": [
    "# Задаем параметры генерации случайных чисел\n",
    "np.random.seed(21)"
   ]
  },
  {
   "cell_type": "markdown",
   "metadata": {
    "id": "DUdiUHAoz4Kl"
   },
   "source": [
    "◦ создадим серию с названием Year, используя случайные целые числа с 1980 по 2019 год. Надо использовать np.random.seed(21) перед генерацией лет.\n",
    "\n",
    "Объединим серию с датафреймом"
   ]
  },
  {
   "cell_type": "code",
   "execution_count": 11,
   "metadata": {
    "id": "rTsnti9p0zyK"
   },
   "outputs": [
    {
     "data": {
      "text/plain": [
       "0      1989\n",
       "1      1995\n",
       "2      1984\n",
       "3      2015\n",
       "4      2014\n",
       "       ... \n",
       "920    1996\n",
       "921    2002\n",
       "922    1996\n",
       "923    2012\n",
       "924    1984\n",
       "Length: 925, dtype: int64"
      ]
     },
     "execution_count": 11,
     "metadata": {},
     "output_type": "execute_result"
    }
   ],
   "source": [
    "Year = pd.Series([np.random.randint(1980,2019) for i in range(len(concat_rows))])\n",
    "Year"
   ]
  },
  {
   "cell_type": "code",
   "execution_count": 12,
   "metadata": {
    "id": "urAUulGQ1F-d"
   },
   "outputs": [
    {
     "data": {
      "text/html": [
       "<div>\n",
       "<style scoped>\n",
       "    .dataframe tbody tr th:only-of-type {\n",
       "        vertical-align: middle;\n",
       "    }\n",
       "\n",
       "    .dataframe tbody tr th {\n",
       "        vertical-align: top;\n",
       "    }\n",
       "\n",
       "    .dataframe thead th {\n",
       "        text-align: right;\n",
       "    }\n",
       "</style>\n",
       "<table border=\"1\" class=\"dataframe\">\n",
       "  <thead>\n",
       "    <tr style=\"text-align: right;\">\n",
       "      <th></th>\n",
       "      <th>CarNumber</th>\n",
       "      <th>Refund</th>\n",
       "      <th>Fines</th>\n",
       "      <th>Make</th>\n",
       "      <th>Model</th>\n",
       "      <th>Year</th>\n",
       "    </tr>\n",
       "  </thead>\n",
       "  <tbody>\n",
       "    <tr>\n",
       "      <th>0</th>\n",
       "      <td>Y163O8161RUS</td>\n",
       "      <td>2</td>\n",
       "      <td>3,200.00</td>\n",
       "      <td>Ford</td>\n",
       "      <td>Focus</td>\n",
       "      <td>1989</td>\n",
       "    </tr>\n",
       "    <tr>\n",
       "      <th>1</th>\n",
       "      <td>E432XX77RUS</td>\n",
       "      <td>1</td>\n",
       "      <td>6,500.00</td>\n",
       "      <td>Toyota</td>\n",
       "      <td>Camry</td>\n",
       "      <td>1995</td>\n",
       "    </tr>\n",
       "    <tr>\n",
       "      <th>2</th>\n",
       "      <td>7184TT36RUS</td>\n",
       "      <td>1</td>\n",
       "      <td>2,100.00</td>\n",
       "      <td>Ford</td>\n",
       "      <td>Focus</td>\n",
       "      <td>1984</td>\n",
       "    </tr>\n",
       "    <tr>\n",
       "      <th>3</th>\n",
       "      <td>X582HE161RUS</td>\n",
       "      <td>2</td>\n",
       "      <td>2,000.00</td>\n",
       "      <td>Ford</td>\n",
       "      <td>Focus</td>\n",
       "      <td>2015</td>\n",
       "    </tr>\n",
       "    <tr>\n",
       "      <th>4</th>\n",
       "      <td>92918M178RUS</td>\n",
       "      <td>1</td>\n",
       "      <td>5,700.00</td>\n",
       "      <td>Ford</td>\n",
       "      <td>Focus</td>\n",
       "      <td>2014</td>\n",
       "    </tr>\n",
       "    <tr>\n",
       "      <th>...</th>\n",
       "      <td>...</td>\n",
       "      <td>...</td>\n",
       "      <td>...</td>\n",
       "      <td>...</td>\n",
       "      <td>...</td>\n",
       "      <td>...</td>\n",
       "    </tr>\n",
       "    <tr>\n",
       "      <th>195</th>\n",
       "      <td>8182XX154RUS</td>\n",
       "      <td>1</td>\n",
       "      <td>9,500.00</td>\n",
       "      <td>Ford</td>\n",
       "      <td>Focus</td>\n",
       "      <td>2012</td>\n",
       "    </tr>\n",
       "    <tr>\n",
       "      <th>196</th>\n",
       "      <td>X796TH96RUS</td>\n",
       "      <td>1</td>\n",
       "      <td>2,000.00</td>\n",
       "      <td>Ford</td>\n",
       "      <td>Focus</td>\n",
       "      <td>1998</td>\n",
       "    </tr>\n",
       "    <tr>\n",
       "      <th>197</th>\n",
       "      <td>T011MY163RUS</td>\n",
       "      <td>2</td>\n",
       "      <td>4,400.00</td>\n",
       "      <td>Ford</td>\n",
       "      <td>Focus</td>\n",
       "      <td>1983</td>\n",
       "    </tr>\n",
       "    <tr>\n",
       "      <th>198</th>\n",
       "      <td>T341CC96RUS</td>\n",
       "      <td>2</td>\n",
       "      <td>800.00</td>\n",
       "      <td>Volkswagen</td>\n",
       "      <td>Passat</td>\n",
       "      <td>1983</td>\n",
       "    </tr>\n",
       "    <tr>\n",
       "      <th>199</th>\n",
       "      <td>T119CT96RUS</td>\n",
       "      <td>2</td>\n",
       "      <td>1,400.00</td>\n",
       "      <td>Ford</td>\n",
       "      <td>Focus</td>\n",
       "      <td>1989</td>\n",
       "    </tr>\n",
       "  </tbody>\n",
       "</table>\n",
       "<p>925 rows × 6 columns</p>\n",
       "</div>"
      ],
      "text/plain": [
       "        CarNumber  Refund    Fines        Make   Model  Year\n",
       "0    Y163O8161RUS       2 3,200.00        Ford   Focus  1989\n",
       "1     E432XX77RUS       1 6,500.00      Toyota   Camry  1995\n",
       "2     7184TT36RUS       1 2,100.00        Ford   Focus  1984\n",
       "3    X582HE161RUS       2 2,000.00        Ford   Focus  2015\n",
       "4    92918M178RUS       1 5,700.00        Ford   Focus  2014\n",
       "..            ...     ...      ...         ...     ...   ...\n",
       "195  8182XX154RUS       1 9,500.00        Ford   Focus  2012\n",
       "196   X796TH96RUS       1 2,000.00        Ford   Focus  1998\n",
       "197  T011MY163RUS       2 4,400.00        Ford   Focus  1983\n",
       "198   T341CC96RUS       2   800.00  Volkswagen  Passat  1983\n",
       "199   T119CT96RUS       2 1,400.00        Ford   Focus  1989\n",
       "\n",
       "[925 rows x 6 columns]"
      ]
     },
     "execution_count": 12,
     "metadata": {},
     "output_type": "execute_result"
    }
   ],
   "source": [
    "concat_rows['Year'] = Year.astype('int')\n",
    "fines = concat_rows\n",
    "fines"
   ]
  },
  {
   "cell_type": "markdown",
   "metadata": {
    "id": "UAoRegn42v5n"
   },
   "source": [
    "Добавим еще выдуманных данных"
   ]
  },
  {
   "cell_type": "markdown",
   "metadata": {
    "id": "-a1IiWSX2-f1"
   },
   "source": [
    "\n",
    "Создадим новый фрейм данных с номерами автомобилей и их владельцами. Для этого:"
   ]
  },
  {
   "cell_type": "markdown",
   "metadata": {
    "id": "BQNTQRzmZ5a-"
   },
   "source": [
    "Считаем файл с самыми распространенными фамилиями"
   ]
  },
  {
   "cell_type": "code",
   "execution_count": 13,
   "metadata": {
    "id": "h9yPmXjp-tq-"
   },
   "outputs": [],
   "source": [
    "surname = pd.read_json('../data/surname.json')"
   ]
  },
  {
   "cell_type": "markdown",
   "metadata": {
    "id": "np-JK3ao2_6V"
   },
   "source": [
    "Создадим новую серию с фамилиями (в них не должно быть специальных символов, таких как запятые, скобки и т.д.) Количество должно быть равно количеству уникальных номеров автомобилей. Использовать random_state = 21"
   ]
  },
  {
   "cell_type": "markdown",
   "metadata": {
    "id": "uKWBN8DWjSVX"
   },
   "source": [
    "Создадим столбец из уникальных номеров. Заодно посмотрим, сколько их для создания списка фамилий."
   ]
  },
  {
   "cell_type": "code",
   "execution_count": 14,
   "metadata": {
    "colab": {
     "base_uri": "https://localhost:8080/"
    },
    "executionInfo": {
     "elapsed": 231,
     "status": "ok",
     "timestamp": 1663611100734,
     "user": {
      "displayName": "Наталья Волкова",
      "userId": "00309068704336256241"
     },
     "user_tz": -180
    },
    "id": "AMxqjmWVjYcO",
    "outputId": "c98bea68-9766-45ce-a98f-e66ab48366e6"
   },
   "outputs": [
    {
     "data": {
      "text/plain": [
       "0      Y163O8161RUS\n",
       "1       E432XX77RUS\n",
       "2       7184TT36RUS\n",
       "3      X582HE161RUS\n",
       "4      92918M178RUS\n",
       "           ...     \n",
       "526    O136HO197RUS\n",
       "527    O22097197RUS\n",
       "528    M0309X197RUS\n",
       "529    O673E8197RUS\n",
       "530    8610T8154RUS\n",
       "Name: CarNumber, Length: 531, dtype: object"
      ]
     },
     "execution_count": 14,
     "metadata": {},
     "output_type": "execute_result"
    }
   ],
   "source": [
    "owner_car = concat_rows.drop_duplicates('CarNumber')['CarNumber']\n",
    "owner_car = owner_car.reset_index(drop=True)\n",
    "owner_car"
   ]
  },
  {
   "cell_type": "markdown",
   "metadata": {
    "id": "JEz1aa0PlV3e"
   },
   "source": [
    "Создадим такой же по длине столбец фамилий."
   ]
  },
  {
   "cell_type": "code",
   "execution_count": 15,
   "metadata": {
    "id": "FUzhohMUkah2"
   },
   "outputs": [
    {
     "ename": "KeyError",
     "evalue": "'NAME'",
     "output_type": "error",
     "traceback": [
      "\u001b[0;31m---------------------------------------------------------------------------\u001b[0m",
      "\u001b[0;31mKeyError\u001b[0m                                  Traceback (most recent call last)",
      "Cell \u001b[0;32mIn [15], line 1\u001b[0m\n\u001b[0;32m----> 1\u001b[0m owner_name \u001b[38;5;241m=\u001b[39m \u001b[43msurname\u001b[49m\u001b[43m[\u001b[49m\u001b[38;5;124;43m'\u001b[39;49m\u001b[38;5;124;43mNAME\u001b[39;49m\u001b[38;5;124;43m'\u001b[39;49m\u001b[43m]\u001b[49m\u001b[38;5;241m.\u001b[39msample(n\u001b[38;5;241m=\u001b[39m\u001b[38;5;241m531\u001b[39m, random_state\u001b[38;5;241m=\u001b[39m\u001b[38;5;241m21\u001b[39m, replace\u001b[38;5;241m=\u001b[39m\u001b[38;5;28;01mTrue\u001b[39;00m, ignore_index\u001b[38;5;241m=\u001b[39m\u001b[38;5;28;01mTrue\u001b[39;00m)\n\u001b[1;32m      2\u001b[0m owner_name\n",
      "File \u001b[0;32m~/Desktop/my_python_ds_github/rdanyell/lib/python3.9/site-packages/pandas/core/frame.py:3805\u001b[0m, in \u001b[0;36mDataFrame.__getitem__\u001b[0;34m(self, key)\u001b[0m\n\u001b[1;32m   3803\u001b[0m \u001b[38;5;28;01mif\u001b[39;00m \u001b[38;5;28mself\u001b[39m\u001b[38;5;241m.\u001b[39mcolumns\u001b[38;5;241m.\u001b[39mnlevels \u001b[38;5;241m>\u001b[39m \u001b[38;5;241m1\u001b[39m:\n\u001b[1;32m   3804\u001b[0m     \u001b[38;5;28;01mreturn\u001b[39;00m \u001b[38;5;28mself\u001b[39m\u001b[38;5;241m.\u001b[39m_getitem_multilevel(key)\n\u001b[0;32m-> 3805\u001b[0m indexer \u001b[38;5;241m=\u001b[39m \u001b[38;5;28;43mself\u001b[39;49m\u001b[38;5;241;43m.\u001b[39;49m\u001b[43mcolumns\u001b[49m\u001b[38;5;241;43m.\u001b[39;49m\u001b[43mget_loc\u001b[49m\u001b[43m(\u001b[49m\u001b[43mkey\u001b[49m\u001b[43m)\u001b[49m\n\u001b[1;32m   3806\u001b[0m \u001b[38;5;28;01mif\u001b[39;00m is_integer(indexer):\n\u001b[1;32m   3807\u001b[0m     indexer \u001b[38;5;241m=\u001b[39m [indexer]\n",
      "File \u001b[0;32m~/Desktop/my_python_ds_github/rdanyell/lib/python3.9/site-packages/pandas/core/indexes/range.py:396\u001b[0m, in \u001b[0;36mRangeIndex.get_loc\u001b[0;34m(self, key, method, tolerance)\u001b[0m\n\u001b[1;32m    394\u001b[0m             \u001b[38;5;28;01mraise\u001b[39;00m \u001b[38;5;167;01mKeyError\u001b[39;00m(key) \u001b[38;5;28;01mfrom\u001b[39;00m \u001b[38;5;21;01merr\u001b[39;00m\n\u001b[1;32m    395\u001b[0m     \u001b[38;5;28mself\u001b[39m\u001b[38;5;241m.\u001b[39m_check_indexing_error(key)\n\u001b[0;32m--> 396\u001b[0m     \u001b[38;5;28;01mraise\u001b[39;00m \u001b[38;5;167;01mKeyError\u001b[39;00m(key)\n\u001b[1;32m    397\u001b[0m \u001b[38;5;28;01mreturn\u001b[39;00m \u001b[38;5;28msuper\u001b[39m()\u001b[38;5;241m.\u001b[39mget_loc(key, method\u001b[38;5;241m=\u001b[39mmethod, tolerance\u001b[38;5;241m=\u001b[39mtolerance)\n",
      "\u001b[0;31mKeyError\u001b[0m: 'NAME'"
     ]
    }
   ],
   "source": [
    "owner_name = surname['NAME'].sample(n=531, random_state=21, replace=True, ignore_index=True)\n",
    "owner_name"
   ]
  },
  {
   "cell_type": "markdown",
   "metadata": {
    "id": "stzenwhPaYeO"
   },
   "source": [
    "Создадим датафрейм с 2 столбцами: номер и фамилия"
   ]
  },
  {
   "cell_type": "code",
   "execution_count": null,
   "metadata": {
    "id": "fAHxYD9ulzCb"
   },
   "outputs": [],
   "source": [
    "owners = pd.DataFrame(data=owner_car)\n",
    "owners['SURNAME'] = owner_name\n",
    "owners"
   ]
  },
  {
   "cell_type": "markdown",
   "metadata": {
    "id": "0Pfx_7QE1EU5"
   },
   "source": [
    "Подготовим данные для демонстрации умения объединять таблицы по разным условиям"
   ]
  },
  {
   "cell_type": "markdown",
   "metadata": {
    "id": "bXlprxD-aZoe"
   },
   "source": [
    "Добавим еще 5 наблюдений к датафрейму данных о штрафах (придумайте свои собственные идеи)"
   ]
  },
  {
   "cell_type": "code",
   "execution_count": null,
   "metadata": {
    "colab": {
     "base_uri": "https://localhost:8080/",
     "height": 424
    },
    "executionInfo": {
     "elapsed": 249,
     "status": "ok",
     "timestamp": 1663611474405,
     "user": {
      "displayName": "Наталья Волкова",
      "userId": "00309068704336256241"
     },
     "user_tz": -180
    },
    "id": "-MJRlwv5qo04",
    "outputId": "e9299018-4548-45bd-e7ff-d83837951623"
   },
   "outputs": [],
   "source": [
    "sample_5 = df.sample(n=5, random_state=21).reset_index(drop=True)\n",
    "Refund_5 = df.sample(n=5, random_state=42).reset_index(drop=True)\n",
    "Fines_5 = df.sample(n=5, random_state=30).reset_index(drop=True)\n",
    "sample_5['Fines'] = sample_for_Fines['Fines']\n",
    "sample_5['Refund'] = sample_for_Refund['Refund']\n",
    "sample_5['Year'] = [2000, 1996, 2002, 2010, 1999]\n",
    "fines = pd.concat([fines, sample_5])\n",
    "fines\n"
   ]
  },
  {
   "cell_type": "markdown",
   "metadata": {
    "id": "QlMe32KEaak-"
   },
   "source": [
    "Удалим из датафрейма владельцев последние 20 наблюдений и добавим 3 новых "
   ]
  },
  {
   "cell_type": "code",
   "execution_count": null,
   "metadata": {
    "colab": {
     "base_uri": "https://localhost:8080/",
     "height": 424
    },
    "executionInfo": {
     "elapsed": 277,
     "status": "ok",
     "timestamp": 1663611471385,
     "user": {
      "displayName": "Наталья Волкова",
      "userId": "00309068704336256241"
     },
     "user_tz": -180
    },
    "id": "SVQ0AgIH6z6H",
    "outputId": "663423a9-53a1-4756-851c-d9effb86b59c"
   },
   "outputs": [],
   "source": [
    "owners_test = owners.drop(owners.tail(20).index)\n",
    "add3 = owners.sample(n=3, random_state=1)\n",
    "owners_test = pd.concat([owners_test, add3], ignore_index=True)\n",
    "owners_test"
   ]
  },
  {
   "cell_type": "markdown",
   "metadata": {
    "id": "-B20Hglv84t2"
   },
   "source": [
    "Будем соединять эти датафреймы разными способами"
   ]
  },
  {
   "cell_type": "markdown",
   "metadata": {
    "id": "fQbvKYDO_YdO"
   },
   "source": [
    "Подробно и понятно про агрегирование:\n",
    "\n",
    "https://sparkbyexamples.com/pandas/pandas-groupby-sum-examples/"
   ]
  },
  {
   "cell_type": "markdown",
   "metadata": {
    "id": "3O640HZKabqX"
   },
   "source": [
    "∗ новый фрейм данных должен содержать только номера автомобилей, существующие в обоих фреймах данных."
   ]
  },
  {
   "cell_type": "code",
   "execution_count": null,
   "metadata": {
    "id": "wo13bDGo9tkv"
   },
   "outputs": [],
   "source": [
    "test1 = pd.merge(fines, owners_test, on='CarNumber', how='inner')\n",
    "test1"
   ]
  },
  {
   "cell_type": "markdown",
   "metadata": {
    "id": "ilpwJFXwace2"
   },
   "source": [
    "∗ новый фрейм данных должен содержать все номера автомобилей, существующие в обоих фреймах данных."
   ]
  },
  {
   "cell_type": "code",
   "execution_count": null,
   "metadata": {
    "id": "_li5bX7X-lwP"
   },
   "outputs": [],
   "source": [
    "test2 = pd.merge(fines, owners_test, on='CarNumber', how='outer')\n",
    "test2"
   ]
  },
  {
   "cell_type": "markdown",
   "metadata": {
    "id": "pEdvm9fK9oNP"
   },
   "source": [
    "∗ новый фрейм данных должен содержать только номера автомобилей из фрейма данных штрафов"
   ]
  },
  {
   "cell_type": "code",
   "execution_count": null,
   "metadata": {
    "id": "W-iPMjnm-66l"
   },
   "outputs": [],
   "source": [
    "test3 = pd.merge(car_test, owners_test, on='CarNumber', how='left')\n",
    "test3"
   ]
  },
  {
   "cell_type": "markdown",
   "metadata": {
    "id": "fnxw2N1R9prf"
   },
   "source": [
    "∗ новый фрейм данных должен содержать только номера автомобилей из\n",
    "фрейма данных владельцев"
   ]
  },
  {
   "cell_type": "code",
   "execution_count": null,
   "metadata": {
    "id": "aR3Ng-f6_Cb9"
   },
   "outputs": [],
   "source": [
    "test4 = pd.merge(car_test, owners_test, on='CarNumber', how='right')\n",
    "test4"
   ]
  },
  {
   "cell_type": "markdown",
   "metadata": {
    "id": "TMIYnPFy9qrW"
   },
   "source": [
    "Cоздадим сводную таблицу по заданию"
   ]
  },
  {
   "cell_type": "code",
   "execution_count": null,
   "metadata": {
    "id": "pJ3cbkY1AFPv"
   },
   "outputs": [],
   "source": [
    "pd.pivot_table(car_test,\n",
    "               columns='Year',\n",
    "               values='Fines',\n",
    "               index=['Make', 'Model'],\n",
    "               aggfunc={'Fines': np.sum})"
   ]
  },
  {
   "cell_type": "markdown",
   "metadata": {
    "id": "K9hGOr-AAuSn"
   },
   "source": [
    "Сохраним фреймы данных о штрафах и владельцах в CSV-файлах без индекса"
   ]
  },
  {
   "cell_type": "code",
   "execution_count": null,
   "metadata": {
    "id": "8Bhp8AToA23n"
   },
   "outputs": [],
   "source": [
    "car_test.to_csv('../data/fines.csv', index=False)\n",
    "owners.to_csv('../data/owners.csv', index=False)"
   ]
  },
  {
   "cell_type": "code",
   "execution_count": null,
   "metadata": {},
   "outputs": [],
   "source": [
    "len(fines)"
   ]
  }
 ],
 "metadata": {
  "colab": {
   "authorship_tag": "ABX9TyN2+0eg1ZvhO38IXfQPGd1i",
   "provenance": []
  },
  "kernelspec": {
   "display_name": "Python 3 (ipykernel)",
   "language": "python",
   "name": "python3"
  },
  "language_info": {
   "codemirror_mode": {
    "name": "ipython",
    "version": 3
   },
   "file_extension": ".py",
   "mimetype": "text/x-python",
   "name": "python",
   "nbconvert_exporter": "python",
   "pygments_lexer": "ipython3",
   "version": "3.9.10"
  }
 },
 "nbformat": 4,
 "nbformat_minor": 1
}
