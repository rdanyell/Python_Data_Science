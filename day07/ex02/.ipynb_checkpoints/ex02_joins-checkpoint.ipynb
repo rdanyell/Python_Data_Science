{
 "cells": [
  {
   "cell_type": "code",
   "execution_count": 1,
   "id": "55b9aebe",
   "metadata": {},
   "outputs": [],
   "source": [
    "import pandas as pd\n",
    "import sqlite3"
   ]
  },
  {
   "cell_type": "markdown",
   "id": "7df9dd14",
   "metadata": {},
   "source": [
    "## С помощью sqlite3.connect создадим объект типа Connection"
   ]
  },
  {
   "cell_type": "code",
   "execution_count": 2,
   "id": "70a39453",
   "metadata": {},
   "outputs": [
    {
     "data": {
      "text/plain": [
       "<sqlite3.Connection at 0x123ace5d0>"
      ]
     },
     "execution_count": 2,
     "metadata": {},
     "output_type": "execute_result"
    }
   ],
   "source": [
    "connect = sqlite3.connect('../data/checking-logs.sqlite.sqlite')\n",
    "connect"
   ]
  },
  {
   "cell_type": "markdown",
   "id": "f6463e80",
   "metadata": {},
   "source": [
    "## Создадим новую таблицу datamart в базе данных, объединив просмотры страниц таблиц и проверку с использованием одного запроса\n",
    "\n",
    "### ◦ в таблице должны быть следующие столбцы: uid, labname, first_commit_ts, first_view_ts\n",
    "\n",
    "### фильтры те же:\n",
    "\n",
    "#### ∗ status = ’ready’\n",
    "\n",
    "#### ∗ numTrials = 1\n",
    "\n",
    "### ◦ таблица должна содержать только пользователей (uid с user_*), а не администраторов\n",
    "\n",
    "### ◦ first_commit_ts и first_view_ts должны быть проанализированы как datetime64[ns]"
   ]
  },
  {
   "cell_type": "code",
   "execution_count": 3,
   "id": "d1852706",
   "metadata": {},
   "outputs": [
    {
     "ename": "DatabaseError",
     "evalue": "Execution failed on sql '\nSELECT checker.uid,\n       checker.labname,\n       checker.timestamp AS first_commit_ts,\n       pageviews.datetime AS first_view_ts\nFROM checker \nLEFT JOIN pageviews ON checker.uid=pageviews.uid\nWHERE status='ready'\nAND numTrials=1\nAND labname IN ('laba04', 'laba04s', 'laba05', 'laba06', 'laba06s', 'project1')\nAND checker.uid LIKE 'user_%'\nAND (pageviews.datetime = (SELECT MIN(pageviews.datetime)\n                           FROM pageviews\n                           WHERE uid=checker.uid)\n        OR pageviews.datetime IS NULL)\n': no such table: checker",
     "output_type": "error",
     "traceback": [
      "\u001b[0;31m---------------------------------------------------------------------------\u001b[0m",
      "\u001b[0;31mOperationalError\u001b[0m                          Traceback (most recent call last)",
      "File \u001b[0;32m~/Desktop/my_python_ds_github/rdanyell/lib/python3.9/site-packages/pandas/io/sql.py:2019\u001b[0m, in \u001b[0;36mSQLiteDatabase.execute\u001b[0;34m(self, *args, **kwargs)\u001b[0m\n\u001b[1;32m   2018\u001b[0m \u001b[38;5;28;01mtry\u001b[39;00m:\n\u001b[0;32m-> 2019\u001b[0m     \u001b[43mcur\u001b[49m\u001b[38;5;241;43m.\u001b[39;49m\u001b[43mexecute\u001b[49m\u001b[43m(\u001b[49m\u001b[38;5;241;43m*\u001b[39;49m\u001b[43margs\u001b[49m\u001b[43m,\u001b[49m\u001b[43m \u001b[49m\u001b[38;5;241;43m*\u001b[39;49m\u001b[38;5;241;43m*\u001b[39;49m\u001b[43mkwargs\u001b[49m\u001b[43m)\u001b[49m\n\u001b[1;32m   2020\u001b[0m     \u001b[38;5;28;01mreturn\u001b[39;00m cur\n",
      "\u001b[0;31mOperationalError\u001b[0m: no such table: checker",
      "\nThe above exception was the direct cause of the following exception:\n",
      "\u001b[0;31mDatabaseError\u001b[0m                             Traceback (most recent call last)",
      "Cell \u001b[0;32mIn [3], line 17\u001b[0m\n\u001b[1;32m      1\u001b[0m request \u001b[38;5;241m=\u001b[39m \u001b[38;5;124m'''\u001b[39m\n\u001b[1;32m      2\u001b[0m \u001b[38;5;124mSELECT checker.uid,\u001b[39m\n\u001b[1;32m      3\u001b[0m \u001b[38;5;124m       checker.labname,\u001b[39m\n\u001b[0;32m   (...)\u001b[0m\n\u001b[1;32m     15\u001b[0m \u001b[38;5;124m        OR pageviews.datetime IS NULL)\u001b[39m\n\u001b[1;32m     16\u001b[0m \u001b[38;5;124m'''\u001b[39m\n\u001b[0;32m---> 17\u001b[0m datamart \u001b[38;5;241m=\u001b[39m \u001b[43mpd\u001b[49m\u001b[38;5;241;43m.\u001b[39;49m\u001b[43mio\u001b[49m\u001b[38;5;241;43m.\u001b[39;49m\u001b[43msql\u001b[49m\u001b[38;5;241;43m.\u001b[39;49m\u001b[43mread_sql\u001b[49m\u001b[43m(\u001b[49m\u001b[43mrequest\u001b[49m\u001b[43m,\u001b[49m\u001b[43m \u001b[49m\u001b[43mconnect\u001b[49m\u001b[43m,\u001b[49m\u001b[43m \u001b[49m\u001b[43mparse_dates\u001b[49m\u001b[38;5;241;43m=\u001b[39;49m\u001b[43m[\u001b[49m\n\u001b[1;32m     18\u001b[0m \u001b[43m                              \u001b[49m\u001b[38;5;124;43m'\u001b[39;49m\u001b[38;5;124;43mfirst_commit_ts\u001b[39;49m\u001b[38;5;124;43m'\u001b[39;49m\u001b[43m,\u001b[49m\u001b[43m \u001b[49m\u001b[38;5;124;43m'\u001b[39;49m\u001b[38;5;124;43mfirst_view_ts\u001b[39;49m\u001b[38;5;124;43m'\u001b[39;49m\u001b[43m]\u001b[49m\u001b[43m)\u001b[49m\n\u001b[1;32m     19\u001b[0m datamart\n",
      "File \u001b[0;32m~/Desktop/my_python_ds_github/rdanyell/lib/python3.9/site-packages/pandas/io/sql.py:565\u001b[0m, in \u001b[0;36mread_sql\u001b[0;34m(sql, con, index_col, coerce_float, params, parse_dates, columns, chunksize)\u001b[0m\n\u001b[1;32m    562\u001b[0m pandas_sql \u001b[38;5;241m=\u001b[39m pandasSQL_builder(con)\n\u001b[1;32m    564\u001b[0m \u001b[38;5;28;01mif\u001b[39;00m \u001b[38;5;28misinstance\u001b[39m(pandas_sql, SQLiteDatabase):\n\u001b[0;32m--> 565\u001b[0m     \u001b[38;5;28;01mreturn\u001b[39;00m \u001b[43mpandas_sql\u001b[49m\u001b[38;5;241;43m.\u001b[39;49m\u001b[43mread_query\u001b[49m\u001b[43m(\u001b[49m\n\u001b[1;32m    566\u001b[0m \u001b[43m        \u001b[49m\u001b[43msql\u001b[49m\u001b[43m,\u001b[49m\n\u001b[1;32m    567\u001b[0m \u001b[43m        \u001b[49m\u001b[43mindex_col\u001b[49m\u001b[38;5;241;43m=\u001b[39;49m\u001b[43mindex_col\u001b[49m\u001b[43m,\u001b[49m\n\u001b[1;32m    568\u001b[0m \u001b[43m        \u001b[49m\u001b[43mparams\u001b[49m\u001b[38;5;241;43m=\u001b[39;49m\u001b[43mparams\u001b[49m\u001b[43m,\u001b[49m\n\u001b[1;32m    569\u001b[0m \u001b[43m        \u001b[49m\u001b[43mcoerce_float\u001b[49m\u001b[38;5;241;43m=\u001b[39;49m\u001b[43mcoerce_float\u001b[49m\u001b[43m,\u001b[49m\n\u001b[1;32m    570\u001b[0m \u001b[43m        \u001b[49m\u001b[43mparse_dates\u001b[49m\u001b[38;5;241;43m=\u001b[39;49m\u001b[43mparse_dates\u001b[49m\u001b[43m,\u001b[49m\n\u001b[1;32m    571\u001b[0m \u001b[43m        \u001b[49m\u001b[43mchunksize\u001b[49m\u001b[38;5;241;43m=\u001b[39;49m\u001b[43mchunksize\u001b[49m\u001b[43m,\u001b[49m\n\u001b[1;32m    572\u001b[0m \u001b[43m    \u001b[49m\u001b[43m)\u001b[49m\n\u001b[1;32m    574\u001b[0m \u001b[38;5;28;01mtry\u001b[39;00m:\n\u001b[1;32m    575\u001b[0m     _is_table_name \u001b[38;5;241m=\u001b[39m pandas_sql\u001b[38;5;241m.\u001b[39mhas_table(sql)\n",
      "File \u001b[0;32m~/Desktop/my_python_ds_github/rdanyell/lib/python3.9/site-packages/pandas/io/sql.py:2079\u001b[0m, in \u001b[0;36mSQLiteDatabase.read_query\u001b[0;34m(self, sql, index_col, coerce_float, params, parse_dates, chunksize, dtype)\u001b[0m\n\u001b[1;32m   2067\u001b[0m \u001b[38;5;28;01mdef\u001b[39;00m \u001b[38;5;21mread_query\u001b[39m(\n\u001b[1;32m   2068\u001b[0m     \u001b[38;5;28mself\u001b[39m,\n\u001b[1;32m   2069\u001b[0m     sql,\n\u001b[0;32m   (...)\u001b[0m\n\u001b[1;32m   2075\u001b[0m     dtype: DtypeArg \u001b[38;5;241m|\u001b[39m \u001b[38;5;28;01mNone\u001b[39;00m \u001b[38;5;241m=\u001b[39m \u001b[38;5;28;01mNone\u001b[39;00m,\n\u001b[1;32m   2076\u001b[0m ) \u001b[38;5;241m-\u001b[39m\u001b[38;5;241m>\u001b[39m DataFrame \u001b[38;5;241m|\u001b[39m Iterator[DataFrame]:\n\u001b[1;32m   2078\u001b[0m     args \u001b[38;5;241m=\u001b[39m _convert_params(sql, params)\n\u001b[0;32m-> 2079\u001b[0m     cursor \u001b[38;5;241m=\u001b[39m \u001b[38;5;28;43mself\u001b[39;49m\u001b[38;5;241;43m.\u001b[39;49m\u001b[43mexecute\u001b[49m\u001b[43m(\u001b[49m\u001b[38;5;241;43m*\u001b[39;49m\u001b[43margs\u001b[49m\u001b[43m)\u001b[49m\n\u001b[1;32m   2080\u001b[0m     columns \u001b[38;5;241m=\u001b[39m [col_desc[\u001b[38;5;241m0\u001b[39m] \u001b[38;5;28;01mfor\u001b[39;00m col_desc \u001b[38;5;129;01min\u001b[39;00m cursor\u001b[38;5;241m.\u001b[39mdescription]\n\u001b[1;32m   2082\u001b[0m     \u001b[38;5;28;01mif\u001b[39;00m chunksize \u001b[38;5;129;01mis\u001b[39;00m \u001b[38;5;129;01mnot\u001b[39;00m \u001b[38;5;28;01mNone\u001b[39;00m:\n",
      "File \u001b[0;32m~/Desktop/my_python_ds_github/rdanyell/lib/python3.9/site-packages/pandas/io/sql.py:2031\u001b[0m, in \u001b[0;36mSQLiteDatabase.execute\u001b[0;34m(self, *args, **kwargs)\u001b[0m\n\u001b[1;32m   2028\u001b[0m     \u001b[38;5;28;01mraise\u001b[39;00m ex \u001b[38;5;28;01mfrom\u001b[39;00m \u001b[38;5;21;01minner_exc\u001b[39;00m\n\u001b[1;32m   2030\u001b[0m ex \u001b[38;5;241m=\u001b[39m DatabaseError(\u001b[38;5;124mf\u001b[39m\u001b[38;5;124m\"\u001b[39m\u001b[38;5;124mExecution failed on sql \u001b[39m\u001b[38;5;124m'\u001b[39m\u001b[38;5;132;01m{\u001b[39;00margs[\u001b[38;5;241m0\u001b[39m]\u001b[38;5;132;01m}\u001b[39;00m\u001b[38;5;124m'\u001b[39m\u001b[38;5;124m: \u001b[39m\u001b[38;5;132;01m{\u001b[39;00mexc\u001b[38;5;132;01m}\u001b[39;00m\u001b[38;5;124m\"\u001b[39m)\n\u001b[0;32m-> 2031\u001b[0m \u001b[38;5;28;01mraise\u001b[39;00m ex \u001b[38;5;28;01mfrom\u001b[39;00m \u001b[38;5;21;01mexc\u001b[39;00m\n",
      "\u001b[0;31mDatabaseError\u001b[0m: Execution failed on sql '\nSELECT checker.uid,\n       checker.labname,\n       checker.timestamp AS first_commit_ts,\n       pageviews.datetime AS first_view_ts\nFROM checker \nLEFT JOIN pageviews ON checker.uid=pageviews.uid\nWHERE status='ready'\nAND numTrials=1\nAND labname IN ('laba04', 'laba04s', 'laba05', 'laba06', 'laba06s', 'project1')\nAND checker.uid LIKE 'user_%'\nAND (pageviews.datetime = (SELECT MIN(pageviews.datetime)\n                           FROM pageviews\n                           WHERE uid=checker.uid)\n        OR pageviews.datetime IS NULL)\n': no such table: checker"
     ]
    }
   ],
   "source": [
    "request = '''\n",
    "SELECT checker.uid,\n",
    "       checker.labname,\n",
    "       checker.timestamp AS first_commit_ts,\n",
    "       pageviews.datetime AS first_view_ts\n",
    "FROM checker \n",
    "LEFT JOIN pageviews ON checker.uid=pageviews.uid\n",
    "WHERE status='ready'\n",
    "AND numTrials=1\n",
    "AND labname IN ('laba04', 'laba04s', 'laba05', 'laba06', 'laba06s', 'project1')\n",
    "AND checker.uid LIKE 'user_%'\n",
    "AND (pageviews.datetime = (SELECT MIN(pageviews.datetime)\n",
    "                           FROM pageviews\n",
    "                           WHERE uid=checker.uid)\n",
    "        OR pageviews.datetime IS NULL)\n",
    "'''\n",
    "datamart = pd.io.sql.read_sql(request, connect, parse_dates=[\n",
    "                              'first_commit_ts', 'first_view_ts'])\n",
    "datamart"
   ]
  },
  {
   "cell_type": "markdown",
   "id": "b850cbc0",
   "metadata": {},
   "source": [
    "## Создадим два фрейма данных: тестовый и контрольный:\n",
    "\n",
    "### у тестового должны быть пользователи, у которых есть значения в first_view_ts\n",
    "\n",
    "### у контрольного должны быть пользователи, у которых отсутствуют значения в first_view_ts"
   ]
  },
  {
   "cell_type": "code",
   "execution_count": null,
   "id": "73ab2b32",
   "metadata": {},
   "outputs": [],
   "source": [
    "test = datamart[datamart['first_view_ts'].notnull()]\n",
    "control = datamart[datamart['first_view_ts'].isnull()]"
   ]
  },
  {
   "cell_type": "markdown",
   "id": "5e740c78",
   "metadata": {},
   "source": [
    "## Найдем среднее значения first_view_ts"
   ]
  },
  {
   "cell_type": "code",
   "execution_count": null,
   "id": "cbac70c0",
   "metadata": {},
   "outputs": [],
   "source": [
    "replase_arg = test['first_view_ts'].mean()\n",
    "replase_arg"
   ]
  },
  {
   "cell_type": "markdown",
   "id": "0fd96dbb",
   "metadata": {},
   "source": [
    "## Заменим недостающие значения на средние"
   ]
  },
  {
   "cell_type": "code",
   "execution_count": null,
   "id": "5a7a21c1",
   "metadata": {},
   "outputs": [],
   "source": [
    "control = control.fillna(test['first_view_ts'].mean())"
   ]
  },
  {
   "cell_type": "markdown",
   "id": "00ad0d30",
   "metadata": {},
   "source": [
    "## Сохраним обе таблицы в базе данных"
   ]
  },
  {
   "cell_type": "code",
   "execution_count": null,
   "id": "47e695ef",
   "metadata": {},
   "outputs": [],
   "source": [
    "test.to_sql('test', connect)\n",
    "control.to_sql('control', connect)"
   ]
  },
  {
   "cell_type": "markdown",
   "id": "c68f6f1f",
   "metadata": {},
   "source": [
    "## Закроем соединение с базой данных"
   ]
  },
  {
   "cell_type": "code",
   "execution_count": null,
   "id": "3ae6f079",
   "metadata": {},
   "outputs": [],
   "source": [
    "connect.close()"
   ]
  }
 ],
 "metadata": {
  "kernelspec": {
   "display_name": "Python 3 (ipykernel)",
   "language": "python",
   "name": "python3"
  },
  "language_info": {
   "codemirror_mode": {
    "name": "ipython",
    "version": 3
   },
   "file_extension": ".py",
   "mimetype": "text/x-python",
   "name": "python",
   "nbconvert_exporter": "python",
   "pygments_lexer": "ipython3",
   "version": "3.9.10"
  }
 },
 "nbformat": 4,
 "nbformat_minor": 5
}
