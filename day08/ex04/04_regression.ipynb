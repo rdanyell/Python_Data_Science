{
 "cells": [
  {
   "cell_type": "markdown",
   "metadata": {
    "id": "QarxqziSwhJy"
   },
   "source": [
    "# Day 08. Exercise 04\n",
    "# Regression"
   ]
  },
  {
   "cell_type": "markdown",
   "metadata": {
    "id": "Id8BNMUDwhJ1"
   },
   "source": [
    "## 0. Imports"
   ]
  },
  {
   "cell_type": "code",
   "execution_count": 1,
   "metadata": {
    "colab": {
     "base_uri": "https://localhost:8080/"
    },
    "executionInfo": {
     "elapsed": 2856,
     "status": "ok",
     "timestamp": 1664381531768,
     "user": {
      "displayName": "Andy Dar",
      "userId": "00026840521012964661"
     },
     "user_tz": -180
    },
    "id": "iGTYhQ-HwhJ2",
    "outputId": "1a9fdbbd-ca62-4f61-b4f9-0125c1314bfd"
   },
   "outputs": [],
   "source": [
    "import pandas as pd\n",
    "from sklearn.preprocessing import StandardScaler\n",
    "from sklearn.tree import DecisionTreeRegressor\n",
    "from sklearn.ensemble import RandomForestRegressor\n",
    "from sklearn.model_selection import train_test_split, KFold, cross_val_score, cross_val_predict\n",
    "from sklearn import linear_model, metrics\n",
    "from matplotlib import pyplot as plt\n",
    "from collections import Counter"
   ]
  },
  {
   "cell_type": "markdown",
   "metadata": {
    "id": "GOjZ418awhJ4"
   },
   "source": [
    "## 1. Preprocessing"
   ]
  },
  {
   "cell_type": "markdown",
   "metadata": {
    "id": "SJDWFkv6whJ4"
   },
   "source": [
    "1. Read the file [`checker_regression.csv`](https://drive.google.com/file/d/1L8auBzJEghWFewznhhFpcrqxW4GqcfRY/view?usp=sharing).\n",
    "2. Fill the missing values in it with `0`.\n",
    "3. Make a split of your dataset on train and test with parameters `test_size=0.2`."
   ]
  },
  {
   "cell_type": "code",
   "execution_count": 2,
   "metadata": {
    "colab": {
     "base_uri": "https://localhost:8080/"
    },
    "executionInfo": {
     "elapsed": 571,
     "status": "ok",
     "timestamp": 1664380584183,
     "user": {
      "displayName": "Andy Dar",
      "userId": "00026840521012964661"
     },
     "user_tz": -180
    },
    "id": "eCeS2DEHwhJ4",
    "outputId": "4ec2f4ae-265a-4084-c03f-cfe05370830c"
   },
   "outputs": [
    {
     "name": "stdout",
     "output_type": "stream",
     "text": [
      "<class 'pandas.core.frame.DataFrame'>\n",
      "RangeIndex: 77 entries, 0 to 76\n",
      "Data columns (total 4 columns):\n",
      " #   Column       Non-Null Count  Dtype  \n",
      "---  ------       --------------  -----  \n",
      " 0   uid          77 non-null     object \n",
      " 1   num_commits  77 non-null     int64  \n",
      " 2   pageviews    59 non-null     float64\n",
      " 3   AVG(diff)    18 non-null     float64\n",
      "dtypes: float64(2), int64(1), object(1)\n",
      "memory usage: 2.5+ KB\n"
     ]
    }
   ],
   "source": [
    "with open('../data/checker_regression.csv', 'r') as fin:\n",
    "    df = pd.read_csv(fin, sep=',', )\n",
    "df.info()"
   ]
  },
  {
   "cell_type": "code",
   "execution_count": 3,
   "metadata": {
    "colab": {
     "base_uri": "https://localhost:8080/"
    },
    "executionInfo": {
     "elapsed": 278,
     "status": "ok",
     "timestamp": 1664380591624,
     "user": {
      "displayName": "Andy Dar",
      "userId": "00026840521012964661"
     },
     "user_tz": -180
    },
    "id": "FibnbW7rwhJ5",
    "outputId": "11f77c4c-4408-45c6-babc-6f9cd6e5248c"
   },
   "outputs": [
    {
     "name": "stdout",
     "output_type": "stream",
     "text": [
      "<class 'pandas.core.frame.DataFrame'>\n",
      "RangeIndex: 77 entries, 0 to 76\n",
      "Data columns (total 4 columns):\n",
      " #   Column       Non-Null Count  Dtype  \n",
      "---  ------       --------------  -----  \n",
      " 0   uid          77 non-null     object \n",
      " 1   num_commits  77 non-null     int64  \n",
      " 2   pageviews    77 non-null     float64\n",
      " 3   AVG(diff)    77 non-null     float64\n",
      "dtypes: float64(2), int64(1), object(1)\n",
      "memory usage: 2.5+ KB\n",
      "\n",
      "<class 'pandas.core.frame.DataFrame'>\n",
      "RangeIndex: 77 entries, 0 to 76\n",
      "Data columns (total 4 columns):\n",
      " #   Column       Non-Null Count  Dtype  \n",
      "---  ------       --------------  -----  \n",
      " 0   uid          77 non-null     object \n",
      " 1   num_commits  77 non-null     int64  \n",
      " 2   pageviews    77 non-null     float64\n",
      " 3   AVG(diff)    77 non-null     float64\n",
      "dtypes: float64(2), int64(1), object(1)\n",
      "memory usage: 2.5+ KB\n"
     ]
    }
   ],
   "source": [
    "df.fillna(0, inplace=True)\n",
    "df.info()\n",
    "print()\n",
    "df.drop_duplicates()\n",
    "df.info()"
   ]
  },
  {
   "cell_type": "code",
   "execution_count": 4,
   "metadata": {
    "executionInfo": {
     "elapsed": 452,
     "status": "ok",
     "timestamp": 1664380684544,
     "user": {
      "displayName": "Andy Dar",
      "userId": "00026840521012964661"
     },
     "user_tz": -180
    },
    "id": "Ut6X95m_whJ5"
   },
   "outputs": [],
   "source": [
    "uid = {}\n",
    "c = 0\n",
    "for i in Counter(df.uid):\n",
    "  uid[i] = c;\n",
    "  c += 1\n",
    "df[\"uid_num\"] = [uid[df.uid[i]] for i in range(0, 77)]\n",
    "\n",
    "scaller = StandardScaler()\n",
    "X = df.drop(['uid', 'AVG(diff)'], axis=1).values\n",
    "Y = df['AVG(diff)']\n",
    "\n",
    "scaller.fit(X, Y)\n",
    "X_scaled = scaller.transform(X)"
   ]
  },
  {
   "cell_type": "code",
   "execution_count": 5,
   "metadata": {
    "executionInfo": {
     "elapsed": 2,
     "status": "ok",
     "timestamp": 1664380687959,
     "user": {
      "displayName": "Andy Dar",
      "userId": "00026840521012964661"
     },
     "user_tz": -180
    },
    "id": "67hef7x7whJ6"
   },
   "outputs": [],
   "source": [
    "train_data, test_data, train_labels, test_labels = train_test_split(X_scaled, Y, test_size = 0.2, random_state=21)"
   ]
  },
  {
   "cell_type": "markdown",
   "metadata": {
    "id": "BMnx-SUZwhJ6"
   },
   "source": [
    "## 2. Crossvalidation"
   ]
  },
  {
   "cell_type": "code",
   "execution_count": 6,
   "metadata": {
    "executionInfo": {
     "elapsed": 382,
     "status": "ok",
     "timestamp": 1664380692082,
     "user": {
      "displayName": "Andy Dar",
      "userId": "00026840521012964661"
     },
     "user_tz": -180
    },
    "id": "vVT_2JEKAqEF"
   },
   "outputs": [],
   "source": [
    "def crossval(n_splits, X, y, model):\n",
    "  train_data, test_data, train_labels, test_labels = train_test_split(X, y, test_size = 0.2, random_state=21)\n",
    "\n",
    "  ft_m = model.fit(train_data, train_labels)\n",
    "  scores = cross_val_score(model, train_data, train_labels, cv=n_splits)\n",
    "  scores_test = cross_val_score(model, test_data, test_labels, cv=n_splits)\n",
    "  predict = cross_val_predict(ft_m, test_data, test_labels, cv=n_splits)\n",
    "  accuracy = metrics.mean_squared_error(test_labels, predict)\n",
    "\n",
    "  for i in range(0, len(scores)):\n",
    "    print(f'train - {scores[i]} | test - {scores_test[i]}')\n",
    "  print(f'Average RMSE on crossval is {accuracy}')"
   ]
  },
  {
   "cell_type": "markdown",
   "metadata": {
    "id": "B_QYXSbxwhJ6"
   },
   "source": [
    "1. Write a function `crossval` that takes as arguments: `n_splits` for `KFold()`, `X`, `y`, model instantiated class with the parameters of the model (keep in mind: `random_state=21`) and returns for a given model class a result like this:\n",
    "\n",
    "```\n",
    "train -  2696.4496895424836   |   test -  1589.9979527104958\n",
    "train -  2660.957874001452   |   test -  2075.102636027137\n",
    "train -  2847.315529246795   |   test -  320.911928168403\n",
    "train -  2500.7691099659237   |   test -  4132.461382030178\n",
    "train -  2643.927917295123   |   test -  2237.8140952197878\n",
    "train -  2396.295678819444   |   test -  4509.650064742476\n",
    "train -  2003.402267924976   |   test -  8403.491474908551\n",
    "train -  2531.876094212613   |   test -  3135.944102735099\n",
    "train -  2683.1795186023123   |   test -  1796.01426292594\n",
    "train -  2537.1192483996338   |   test -  3439.29824116941\n",
    "Average RMSE on crossval is 3164.0686140637476\n",
    "```\n",
    "\n",
    "2. Run the function for `LinearRegression`, `DecisionTreeRegressor`, `RandomForestRegressor`. You may choose the parameters by yourself, but find the good enough for you."
   ]
  },
  {
   "cell_type": "code",
   "execution_count": 7,
   "metadata": {
    "colab": {
     "base_uri": "https://localhost:8080/"
    },
    "executionInfo": {
     "elapsed": 250,
     "status": "ok",
     "timestamp": 1664381074480,
     "user": {
      "displayName": "Andy Dar",
      "userId": "00026840521012964661"
     },
     "user_tz": -180
    },
    "id": "JWr-uFuTwhJ7",
    "outputId": "3513d966-c0e0-4d2b-e512-bd393224343b"
   },
   "outputs": [
    {
     "name": "stdout",
     "output_type": "stream",
     "text": [
      "train - 0.0 | test - 0.004961726951508094\n",
      "train - 0.0963400544551003 | test - -0.5428483665232184\n",
      "train - -693.7073835189221 | test - 0.0\n",
      "train - -1.094153649351279 | test - -0.8009205015492369\n",
      "train - 0.6001615808128324 | test - 0.0\n",
      "train - 0.09683923334488986 | test - 0.0\n",
      "Average RMSE on crossval is 5525.123876204745\n"
     ]
    }
   ],
   "source": [
    "regr = linear_model.LinearRegression()\n",
    "crossval(6, X_scaled, Y, regr)"
   ]
  },
  {
   "cell_type": "code",
   "execution_count": 8,
   "metadata": {
    "colab": {
     "base_uri": "https://localhost:8080/"
    },
    "executionInfo": {
     "elapsed": 3,
     "status": "ok",
     "timestamp": 1664381076923,
     "user": {
      "displayName": "Andy Dar",
      "userId": "00026840521012964661"
     },
     "user_tz": -180
    },
    "id": "ZlGVIgC0whJ7",
    "outputId": "0b6c90e9-58e0-4283-a2ac-5434fbbbc69e"
   },
   "outputs": [
    {
     "name": "stdout",
     "output_type": "stream",
     "text": [
      "train - 1.0 | test - -4.596767509324493\n",
      "train - 0.47179551899476235 | test - -0.2743937831420151\n",
      "train - -1866.7777777777776 | test - 0.0\n",
      "train - 0.4911702405910613 | test - 0.6893858098724908\n",
      "train - -0.9918996463812577 | test - 1.0\n",
      "train - 0.47109860051659336 | test - 1.0\n",
      "Average RMSE on crossval is 3198.513125\n"
     ]
    }
   ],
   "source": [
    "treeRegr = DecisionTreeRegressor(random_state=21)\n",
    "crossval(6, X_scaled, Y, treeRegr)"
   ]
  },
  {
   "cell_type": "code",
   "execution_count": 9,
   "metadata": {
    "colab": {
     "base_uri": "https://localhost:8080/"
    },
    "executionInfo": {
     "elapsed": 2620,
     "status": "ok",
     "timestamp": 1664381081778,
     "user": {
      "displayName": "Andy Dar",
      "userId": "00026840521012964661"
     },
     "user_tz": -180
    },
    "id": "vI99ORM5whJ7",
    "outputId": "153ef67b-2546-4956-ded0-27190da6d9a6"
   },
   "outputs": [
    {
     "name": "stdout",
     "output_type": "stream",
     "text": [
      "train - 1.0 | test - -5.006453579776215\n",
      "train - 0.36156757125967476 | test - -0.2429836321548351\n",
      "train - -1990.7990523456756 | test - 0.0\n",
      "train - 0.5306663850289821 | test - 0.0047484946976384945\n",
      "train - -0.44749032017942025 | test - 0.0\n",
      "train - 0.484449411221871 | test - 0.0\n",
      "Average RMSE on crossval is 3551.0611675\n"
     ]
    }
   ],
   "source": [
    "rFrstRegr = RandomForestRegressor(random_state = 21)\n",
    "crossval(6, X_scaled, Y, rFrstRegr)"
   ]
  },
  {
   "cell_type": "markdown",
   "metadata": {
    "id": "gopLdwbjwhJ8"
   },
   "source": [
    "## 3. Predictions and evaluation"
   ]
  },
  {
   "cell_type": "markdown",
   "metadata": {
    "id": "JARGp_rPwhJ8"
   },
   "source": [
    "1. Make predictions for the test dataset using each of the three models with the finalized parameters.\n",
    "2. Draw a plot for each of the models where the `x-axis` is the actual average difference and the `y-axis` is the prediction made by a model.\n",
    "3. How would plot look like in the ideal case? Put the answer to the markdown cell in the end of the section."
   ]
  },
  {
   "cell_type": "code",
   "execution_count": 10,
   "metadata": {
    "colab": {
     "base_uri": "https://localhost:8080/",
     "height": 813
    },
    "executionInfo": {
     "elapsed": 309,
     "status": "ok",
     "timestamp": 1664382734241,
     "user": {
      "displayName": "Andy Dar",
      "userId": "00026840521012964661"
     },
     "user_tz": -180
    },
    "id": "8X51zZcvwhJ8",
    "outputId": "d99b2a24-9d30-476f-9813-28e9b503f2fa"
   },
   "outputs": [
    {
     "name": "stderr",
     "output_type": "stream",
     "text": [
      "/var/folders/zz/zyxvpxvq6csfxvn_n0001y6w000gjq/T/ipykernel_79614/3149163200.py:8: UserWarning: No data for colormapping provided via 'c'. Parameters 'cmap' will be ignored\n",
      "  plt.scatter(test_labels, predict, cmap='Accent')\n"
     ]
    },
    {
     "data": {
      "image/png": "[encoded data removed]",
      "text/plain": [
       "<Figure size 640x480 with 1 Axes>"
      ]
     },
     "metadata": {},
     "output_type": "display_data"
    },
    {
     "data": {
      "text/html": [
       "<div>\n",
       "<style scoped>\n",
       "    .dataframe tbody tr th:only-of-type {\n",
       "        vertical-align: middle;\n",
       "    }\n",
       "\n",
       "    .dataframe tbody tr th {\n",
       "        vertical-align: top;\n",
       "    }\n",
       "\n",
       "    .dataframe thead th {\n",
       "        text-align: right;\n",
       "    }\n",
       "</style>\n",
       "<table border=\"1\" class=\"dataframe\">\n",
       "  <thead>\n",
       "    <tr style=\"text-align: right;\">\n",
       "      <th></th>\n",
       "      <th>test_labels</th>\n",
       "      <th>predict</th>\n",
       "    </tr>\n",
       "  </thead>\n",
       "  <tbody>\n",
       "    <tr>\n",
       "      <th>3</th>\n",
       "      <td>0.0</td>\n",
       "      <td>-6.553475</td>\n",
       "    </tr>\n",
       "    <tr>\n",
       "      <th>19</th>\n",
       "      <td>-17.5</td>\n",
       "      <td>-48.498622</td>\n",
       "    </tr>\n",
       "    <tr>\n",
       "      <th>14</th>\n",
       "      <td>-48.5</td>\n",
       "      <td>-34.476767</td>\n",
       "    </tr>\n",
       "    <tr>\n",
       "      <th>45</th>\n",
       "      <td>-223.6</td>\n",
       "      <td>1.726877</td>\n",
       "    </tr>\n",
       "    <tr>\n",
       "      <th>10</th>\n",
       "      <td>0.0</td>\n",
       "      <td>-10.341673</td>\n",
       "    </tr>\n",
       "    <tr>\n",
       "      <th>54</th>\n",
       "      <td>0.0</td>\n",
       "      <td>23.366655</td>\n",
       "    </tr>\n",
       "    <tr>\n",
       "      <th>23</th>\n",
       "      <td>0.0</td>\n",
       "      <td>-31.607499</td>\n",
       "    </tr>\n",
       "    <tr>\n",
       "      <th>29</th>\n",
       "      <td>0.0</td>\n",
       "      <td>-90.048501</td>\n",
       "    </tr>\n",
       "    <tr>\n",
       "      <th>24</th>\n",
       "      <td>0.0</td>\n",
       "      <td>-31.607499</td>\n",
       "    </tr>\n",
       "    <tr>\n",
       "      <th>13</th>\n",
       "      <td>-89.0</td>\n",
       "      <td>3.661616</td>\n",
       "    </tr>\n",
       "    <tr>\n",
       "      <th>22</th>\n",
       "      <td>0.0</td>\n",
       "      <td>-17.705875</td>\n",
       "    </tr>\n",
       "    <tr>\n",
       "      <th>57</th>\n",
       "      <td>0.0</td>\n",
       "      <td>-24.706027</td>\n",
       "    </tr>\n",
       "    <tr>\n",
       "      <th>17</th>\n",
       "      <td>0.0</td>\n",
       "      <td>55.577248</td>\n",
       "    </tr>\n",
       "    <tr>\n",
       "      <th>31</th>\n",
       "      <td>0.0</td>\n",
       "      <td>-50.415042</td>\n",
       "    </tr>\n",
       "    <tr>\n",
       "      <th>39</th>\n",
       "      <td>0.0</td>\n",
       "      <td>-72.556695</td>\n",
       "    </tr>\n",
       "    <tr>\n",
       "      <th>40</th>\n",
       "      <td>0.0</td>\n",
       "      <td>-72.556695</td>\n",
       "    </tr>\n",
       "  </tbody>\n",
       "</table>\n",
       "</div>"
      ],
      "text/plain": [
       "    test_labels    predict\n",
       "3           0.0  -6.553475\n",
       "19        -17.5 -48.498622\n",
       "14        -48.5 -34.476767\n",
       "45       -223.6   1.726877\n",
       "10          0.0 -10.341673\n",
       "54          0.0  23.366655\n",
       "23          0.0 -31.607499\n",
       "29          0.0 -90.048501\n",
       "24          0.0 -31.607499\n",
       "13        -89.0   3.661616\n",
       "22          0.0 -17.705875\n",
       "57          0.0 -24.706027\n",
       "17          0.0  55.577248\n",
       "31          0.0 -50.415042\n",
       "39          0.0 -72.556695\n",
       "40          0.0 -72.556695"
      ]
     },
     "execution_count": 10,
     "metadata": {},
     "output_type": "execute_result"
    }
   ],
   "source": [
    "ft_m = regr.fit(train_data, train_labels)\n",
    "predict = cross_val_predict(ft_m, test_data, test_labels, cv=6)\n",
    "picasso = pd.DataFrame()\n",
    "picasso[\"test_labels\"] = test_labels\n",
    "picasso[\"predict\"] = predict\n",
    "\n",
    "\n",
    "plt.scatter(test_labels, predict, cmap='Accent')\n",
    "plt.xlabel('x')\n",
    "plt.ylabel('y')\n",
    "plt.show()\n",
    "picasso"
   ]
  },
  {
   "cell_type": "code",
   "execution_count": 11,
   "metadata": {
    "colab": {
     "base_uri": "https://localhost:8080/",
     "height": 813
    },
    "executionInfo": {
     "elapsed": 1170,
     "status": "ok",
     "timestamp": 1664382853754,
     "user": {
      "displayName": "Andy Dar",
      "userId": "00026840521012964661"
     },
     "user_tz": -180
    },
    "id": "uHJidVD-whJ8",
    "outputId": "782fb645-cdf1-4972-c98c-a6d86af82828"
   },
   "outputs": [
    {
     "name": "stderr",
     "output_type": "stream",
     "text": [
      "/var/folders/zz/zyxvpxvq6csfxvn_n0001y6w000gjq/T/ipykernel_79614/740387844.py:8: UserWarning: No data for colormapping provided via 'c'. Parameters 'cmap' will be ignored\n",
      "  plt.scatter(test_labels, predict, cmap='Accent')\n"
     ]
    },
    {
     "data": {
      "image/png": "[encoded data removed]",
      "text/plain": [
       "<Figure size 640x480 with 1 Axes>"
      ]
     },
     "metadata": {},
     "output_type": "display_data"
    },
    {
     "data": {
      "text/html": [
       "<div>\n",
       "<style scoped>\n",
       "    .dataframe tbody tr th:only-of-type {\n",
       "        vertical-align: middle;\n",
       "    }\n",
       "\n",
       "    .dataframe tbody tr th {\n",
       "        vertical-align: top;\n",
       "    }\n",
       "\n",
       "    .dataframe thead th {\n",
       "        text-align: right;\n",
       "    }\n",
       "</style>\n",
       "<table border=\"1\" class=\"dataframe\">\n",
       "  <thead>\n",
       "    <tr style=\"text-align: right;\">\n",
       "      <th></th>\n",
       "      <th>test_labels</th>\n",
       "      <th>predict</th>\n",
       "    </tr>\n",
       "  </thead>\n",
       "  <tbody>\n",
       "    <tr>\n",
       "      <th>3</th>\n",
       "      <td>0.0</td>\n",
       "      <td>0.0</td>\n",
       "    </tr>\n",
       "    <tr>\n",
       "      <th>19</th>\n",
       "      <td>-17.5</td>\n",
       "      <td>-89.0</td>\n",
       "    </tr>\n",
       "    <tr>\n",
       "      <th>14</th>\n",
       "      <td>-48.5</td>\n",
       "      <td>-89.0</td>\n",
       "    </tr>\n",
       "    <tr>\n",
       "      <th>45</th>\n",
       "      <td>-223.6</td>\n",
       "      <td>-17.5</td>\n",
       "    </tr>\n",
       "    <tr>\n",
       "      <th>10</th>\n",
       "      <td>0.0</td>\n",
       "      <td>0.0</td>\n",
       "    </tr>\n",
       "    <tr>\n",
       "      <th>54</th>\n",
       "      <td>0.0</td>\n",
       "      <td>0.0</td>\n",
       "    </tr>\n",
       "    <tr>\n",
       "      <th>23</th>\n",
       "      <td>0.0</td>\n",
       "      <td>0.0</td>\n",
       "    </tr>\n",
       "    <tr>\n",
       "      <th>29</th>\n",
       "      <td>0.0</td>\n",
       "      <td>-17.5</td>\n",
       "    </tr>\n",
       "    <tr>\n",
       "      <th>24</th>\n",
       "      <td>0.0</td>\n",
       "      <td>0.0</td>\n",
       "    </tr>\n",
       "    <tr>\n",
       "      <th>13</th>\n",
       "      <td>-89.0</td>\n",
       "      <td>-48.5</td>\n",
       "    </tr>\n",
       "    <tr>\n",
       "      <th>22</th>\n",
       "      <td>0.0</td>\n",
       "      <td>0.0</td>\n",
       "    </tr>\n",
       "    <tr>\n",
       "      <th>57</th>\n",
       "      <td>0.0</td>\n",
       "      <td>0.0</td>\n",
       "    </tr>\n",
       "    <tr>\n",
       "      <th>17</th>\n",
       "      <td>0.0</td>\n",
       "      <td>0.0</td>\n",
       "    </tr>\n",
       "    <tr>\n",
       "      <th>31</th>\n",
       "      <td>0.0</td>\n",
       "      <td>0.0</td>\n",
       "    </tr>\n",
       "    <tr>\n",
       "      <th>39</th>\n",
       "      <td>0.0</td>\n",
       "      <td>0.0</td>\n",
       "    </tr>\n",
       "    <tr>\n",
       "      <th>40</th>\n",
       "      <td>0.0</td>\n",
       "      <td>0.0</td>\n",
       "    </tr>\n",
       "  </tbody>\n",
       "</table>\n",
       "</div>"
      ],
      "text/plain": [
       "    test_labels  predict\n",
       "3           0.0      0.0\n",
       "19        -17.5    -89.0\n",
       "14        -48.5    -89.0\n",
       "45       -223.6    -17.5\n",
       "10          0.0      0.0\n",
       "54          0.0      0.0\n",
       "23          0.0      0.0\n",
       "29          0.0    -17.5\n",
       "24          0.0      0.0\n",
       "13        -89.0    -48.5\n",
       "22          0.0      0.0\n",
       "57          0.0      0.0\n",
       "17          0.0      0.0\n",
       "31          0.0      0.0\n",
       "39          0.0      0.0\n",
       "40          0.0      0.0"
      ]
     },
     "execution_count": 11,
     "metadata": {},
     "output_type": "execute_result"
    }
   ],
   "source": [
    "ft_m = treeRegr.fit(train_data, train_labels)\n",
    "predict = cross_val_predict(ft_m, test_data, test_labels, cv=6)\n",
    "picasso_tree = pd.DataFrame()\n",
    "picasso_tree[\"test_labels\"] = test_labels\n",
    "picasso_tree[\"predict\"] = predict\n",
    "\n",
    "\n",
    "plt.scatter(test_labels, predict, cmap='Accent')\n",
    "plt.xlabel('x')\n",
    "plt.ylabel('y')\n",
    "plt.show()\n",
    "picasso_tree"
   ]
  },
  {
   "cell_type": "code",
   "execution_count": 12,
   "metadata": {
    "colab": {
     "base_uri": "https://localhost:8080/",
     "height": 813
    },
    "executionInfo": {
     "elapsed": 1762,
     "status": "ok",
     "timestamp": 1664382905711,
     "user": {
      "displayName": "Andy Dar",
      "userId": "00026840521012964661"
     },
     "user_tz": -180
    },
    "id": "5TJfnrLkwhJ9",
    "outputId": "b278d1d4-6c0f-4343-e098-a8fc47d54947"
   },
   "outputs": [
    {
     "name": "stderr",
     "output_type": "stream",
     "text": [
      "/var/folders/zz/zyxvpxvq6csfxvn_n0001y6w000gjq/T/ipykernel_79614/3130210833.py:8: UserWarning: No data for colormapping provided via 'c'. Parameters 'cmap' will be ignored\n",
      "  plt.scatter(test_labels, predict, cmap='Accent')\n"
     ]
    },
    {
     "data": {
      "image/png": "[encoded data removed]",
      "text/plain": [
       "<Figure size 640x480 with 1 Axes>"
      ]
     },
     "metadata": {},
     "output_type": "display_data"
    },
    {
     "data": {
      "text/html": [
       "<div>\n",
       "<style scoped>\n",
       "    .dataframe tbody tr th:only-of-type {\n",
       "        vertical-align: middle;\n",
       "    }\n",
       "\n",
       "    .dataframe tbody tr th {\n",
       "        vertical-align: top;\n",
       "    }\n",
       "\n",
       "    .dataframe thead th {\n",
       "        text-align: right;\n",
       "    }\n",
       "</style>\n",
       "<table border=\"1\" class=\"dataframe\">\n",
       "  <thead>\n",
       "    <tr style=\"text-align: right;\">\n",
       "      <th></th>\n",
       "      <th>test_labels</th>\n",
       "      <th>predict</th>\n",
       "    </tr>\n",
       "  </thead>\n",
       "  <tbody>\n",
       "    <tr>\n",
       "      <th>3</th>\n",
       "      <td>0.0</td>\n",
       "      <td>-4.450</td>\n",
       "    </tr>\n",
       "    <tr>\n",
       "      <th>19</th>\n",
       "      <td>-17.5</td>\n",
       "      <td>-91.412</td>\n",
       "    </tr>\n",
       "    <tr>\n",
       "      <th>14</th>\n",
       "      <td>-48.5</td>\n",
       "      <td>-90.500</td>\n",
       "    </tr>\n",
       "    <tr>\n",
       "      <th>45</th>\n",
       "      <td>-223.6</td>\n",
       "      <td>-21.660</td>\n",
       "    </tr>\n",
       "    <tr>\n",
       "      <th>10</th>\n",
       "      <td>0.0</td>\n",
       "      <td>-25.505</td>\n",
       "    </tr>\n",
       "    <tr>\n",
       "      <th>54</th>\n",
       "      <td>0.0</td>\n",
       "      <td>0.000</td>\n",
       "    </tr>\n",
       "    <tr>\n",
       "      <th>23</th>\n",
       "      <td>0.0</td>\n",
       "      <td>-0.485</td>\n",
       "    </tr>\n",
       "    <tr>\n",
       "      <th>29</th>\n",
       "      <td>0.0</td>\n",
       "      <td>-36.570</td>\n",
       "    </tr>\n",
       "    <tr>\n",
       "      <th>24</th>\n",
       "      <td>0.0</td>\n",
       "      <td>-0.485</td>\n",
       "    </tr>\n",
       "    <tr>\n",
       "      <th>13</th>\n",
       "      <td>-89.0</td>\n",
       "      <td>-61.507</td>\n",
       "    </tr>\n",
       "    <tr>\n",
       "      <th>22</th>\n",
       "      <td>0.0</td>\n",
       "      <td>0.000</td>\n",
       "    </tr>\n",
       "    <tr>\n",
       "      <th>57</th>\n",
       "      <td>0.0</td>\n",
       "      <td>-67.080</td>\n",
       "    </tr>\n",
       "    <tr>\n",
       "      <th>17</th>\n",
       "      <td>0.0</td>\n",
       "      <td>-2.115</td>\n",
       "    </tr>\n",
       "    <tr>\n",
       "      <th>31</th>\n",
       "      <td>0.0</td>\n",
       "      <td>-14.725</td>\n",
       "    </tr>\n",
       "    <tr>\n",
       "      <th>39</th>\n",
       "      <td>0.0</td>\n",
       "      <td>-25.741</td>\n",
       "    </tr>\n",
       "    <tr>\n",
       "      <th>40</th>\n",
       "      <td>0.0</td>\n",
       "      <td>-25.741</td>\n",
       "    </tr>\n",
       "  </tbody>\n",
       "</table>\n",
       "</div>"
      ],
      "text/plain": [
       "    test_labels  predict\n",
       "3           0.0   -4.450\n",
       "19        -17.5  -91.412\n",
       "14        -48.5  -90.500\n",
       "45       -223.6  -21.660\n",
       "10          0.0  -25.505\n",
       "54          0.0    0.000\n",
       "23          0.0   -0.485\n",
       "29          0.0  -36.570\n",
       "24          0.0   -0.485\n",
       "13        -89.0  -61.507\n",
       "22          0.0    0.000\n",
       "57          0.0  -67.080\n",
       "17          0.0   -2.115\n",
       "31          0.0  -14.725\n",
       "39          0.0  -25.741\n",
       "40          0.0  -25.741"
      ]
     },
     "execution_count": 12,
     "metadata": {},
     "output_type": "execute_result"
    }
   ],
   "source": [
    "ft_m = rFrstRegr.fit(train_data, train_labels)\n",
    "predict = cross_val_predict(ft_m, test_data, test_labels, cv=6)\n",
    "picasso_rndFrst = pd.DataFrame()\n",
    "picasso_rndFrst[\"test_labels\"] = test_labels\n",
    "picasso_rndFrst[\"predict\"] = predict\n",
    "\n",
    "\n",
    "plt.scatter(test_labels, predict, cmap='Accent')\n",
    "plt.xlabel('x')\n",
    "plt.ylabel('y')\n",
    "plt.show()\n",
    "picasso_rndFrst"
   ]
  },
  {
   "cell_type": "markdown",
   "metadata": {
    "id": "79PZtcEb9EtV"
   },
   "source": [
    "В идеальном случае - это прямрая кх+в под углом 45 градусов первую четверть"
   ]
  },
  {
   "cell_type": "markdown",
   "metadata": {
    "id": "ShPB5jEXwhJ9"
   },
   "source": []
  }
 ],
 "metadata": {
  "colab": {
   "collapsed_sections": [],
   "provenance": []
  },
  "kernelspec": {
   "display_name": "Python 3 (ipykernel)",
   "language": "python",
   "name": "python3"
  },
  "language_info": {
   "codemirror_mode": {
    "name": "ipython",
    "version": 3
   },
   "file_extension": ".py",
   "mimetype": "text/x-python",
   "name": "python",
   "nbconvert_exporter": "python",
   "pygments_lexer": "ipython3",
   "version": "3.9.10"
  }
 },
 "nbformat": 4,
 "nbformat_minor": 1
}
